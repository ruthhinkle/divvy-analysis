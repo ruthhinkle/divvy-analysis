{
 "cells": [
  {
   "cell_type": "markdown",
   "metadata": {},
   "source": [
    "# DIVVY'IN UP DATA"
   ]
  },
  {
   "cell_type": "markdown",
   "metadata": {},
   "source": [
    "    Initial steps/organization"
   ]
  },
  {
   "cell_type": "code",
   "execution_count": 1,
   "metadata": {},
   "outputs": [],
   "source": [
    "# Import Dependencies\n",
    "from matplotlib import pyplot as plt\n",
    "from scipy.stats import linregress\n",
    "import numpy as np\n",
    "from sklearn import datasets\n",
    "import pandas as pd"
   ]
  },
  {
   "cell_type": "code",
   "execution_count": 2,
   "metadata": {},
   "outputs": [
    {
     "data": {
      "text/html": [
       "<div>\n",
       "<style scoped>\n",
       "    .dataframe tbody tr th:only-of-type {\n",
       "        vertical-align: middle;\n",
       "    }\n",
       "\n",
       "    .dataframe tbody tr th {\n",
       "        vertical-align: top;\n",
       "    }\n",
       "\n",
       "    .dataframe thead th {\n",
       "        text-align: right;\n",
       "    }\n",
       "</style>\n",
       "<table border=\"1\" class=\"dataframe\">\n",
       "  <thead>\n",
       "    <tr style=\"text-align: right;\">\n",
       "      <th></th>\n",
       "      <th>trip_id</th>\n",
       "      <th>start_time</th>\n",
       "      <th>end_time</th>\n",
       "      <th>bikeid</th>\n",
       "      <th>tripduration</th>\n",
       "      <th>from_station_id</th>\n",
       "      <th>from_station_name</th>\n",
       "      <th>to_station_id</th>\n",
       "      <th>to_station_name</th>\n",
       "      <th>usertype</th>\n",
       "      <th>gender</th>\n",
       "      <th>birthyear</th>\n",
       "    </tr>\n",
       "  </thead>\n",
       "  <tbody>\n",
       "    <tr>\n",
       "      <th>0</th>\n",
       "      <td>23479388</td>\n",
       "      <td>2019-07-01 00:00:27</td>\n",
       "      <td>2019-07-01 00:20:41</td>\n",
       "      <td>3591</td>\n",
       "      <td>1,214.0</td>\n",
       "      <td>117</td>\n",
       "      <td>Wilton Ave &amp; Belmont Ave</td>\n",
       "      <td>497</td>\n",
       "      <td>Kimball Ave &amp; Belmont Ave</td>\n",
       "      <td>Subscriber</td>\n",
       "      <td>Male</td>\n",
       "      <td>1992.0</td>\n",
       "    </tr>\n",
       "    <tr>\n",
       "      <th>1</th>\n",
       "      <td>23479389</td>\n",
       "      <td>2019-07-01 00:01:16</td>\n",
       "      <td>2019-07-01 00:18:44</td>\n",
       "      <td>5353</td>\n",
       "      <td>1,048.0</td>\n",
       "      <td>381</td>\n",
       "      <td>Western Ave &amp; Monroe St</td>\n",
       "      <td>203</td>\n",
       "      <td>Western Ave &amp; 21st St</td>\n",
       "      <td>Customer</td>\n",
       "      <td>NaN</td>\n",
       "      <td>NaN</td>\n",
       "    </tr>\n",
       "    <tr>\n",
       "      <th>2</th>\n",
       "      <td>23479390</td>\n",
       "      <td>2019-07-01 00:01:48</td>\n",
       "      <td>2019-07-01 00:27:42</td>\n",
       "      <td>6180</td>\n",
       "      <td>1,554.0</td>\n",
       "      <td>313</td>\n",
       "      <td>Lakeview Ave &amp; Fullerton Pkwy</td>\n",
       "      <td>144</td>\n",
       "      <td>Larrabee St &amp; Webster Ave</td>\n",
       "      <td>Customer</td>\n",
       "      <td>NaN</td>\n",
       "      <td>NaN</td>\n",
       "    </tr>\n",
       "    <tr>\n",
       "      <th>3</th>\n",
       "      <td>23479391</td>\n",
       "      <td>2019-07-01 00:02:07</td>\n",
       "      <td>2019-07-01 00:27:10</td>\n",
       "      <td>5540</td>\n",
       "      <td>1,503.0</td>\n",
       "      <td>313</td>\n",
       "      <td>Lakeview Ave &amp; Fullerton Pkwy</td>\n",
       "      <td>144</td>\n",
       "      <td>Larrabee St &amp; Webster Ave</td>\n",
       "      <td>Customer</td>\n",
       "      <td>NaN</td>\n",
       "      <td>NaN</td>\n",
       "    </tr>\n",
       "    <tr>\n",
       "      <th>4</th>\n",
       "      <td>23479392</td>\n",
       "      <td>2019-07-01 00:02:13</td>\n",
       "      <td>2019-07-01 00:22:26</td>\n",
       "      <td>6014</td>\n",
       "      <td>1,213.0</td>\n",
       "      <td>168</td>\n",
       "      <td>Michigan Ave &amp; 14th St</td>\n",
       "      <td>62</td>\n",
       "      <td>McCormick Place</td>\n",
       "      <td>Customer</td>\n",
       "      <td>NaN</td>\n",
       "      <td>NaN</td>\n",
       "    </tr>\n",
       "  </tbody>\n",
       "</table>\n",
       "</div>"
      ],
      "text/plain": [
       "    trip_id           start_time             end_time  bikeid tripduration  \\\n",
       "0  23479388  2019-07-01 00:00:27  2019-07-01 00:20:41    3591      1,214.0   \n",
       "1  23479389  2019-07-01 00:01:16  2019-07-01 00:18:44    5353      1,048.0   \n",
       "2  23479390  2019-07-01 00:01:48  2019-07-01 00:27:42    6180      1,554.0   \n",
       "3  23479391  2019-07-01 00:02:07  2019-07-01 00:27:10    5540      1,503.0   \n",
       "4  23479392  2019-07-01 00:02:13  2019-07-01 00:22:26    6014      1,213.0   \n",
       "\n",
       "   from_station_id              from_station_name  to_station_id  \\\n",
       "0              117       Wilton Ave & Belmont Ave            497   \n",
       "1              381        Western Ave & Monroe St            203   \n",
       "2              313  Lakeview Ave & Fullerton Pkwy            144   \n",
       "3              313  Lakeview Ave & Fullerton Pkwy            144   \n",
       "4              168         Michigan Ave & 14th St             62   \n",
       "\n",
       "             to_station_name    usertype gender  birthyear  \n",
       "0  Kimball Ave & Belmont Ave  Subscriber   Male     1992.0  \n",
       "1      Western Ave & 21st St    Customer    NaN        NaN  \n",
       "2  Larrabee St & Webster Ave    Customer    NaN        NaN  \n",
       "3  Larrabee St & Webster Ave    Customer    NaN        NaN  \n",
       "4            McCormick Place    Customer    NaN        NaN  "
      ]
     },
     "execution_count": 2,
     "metadata": {},
     "output_type": "execute_result"
    }
   ],
   "source": [
    "# Import data file\n",
    "divvy_df = pd.read_csv('Divvy_Trips_2019_Q3.csv')\n",
    "divvy_df.head()"
   ]
  },
  {
   "cell_type": "code",
   "execution_count": 3,
   "metadata": {
    "scrolled": true
   },
   "outputs": [
    {
     "data": {
      "text/plain": [
       "(1640718, 12)"
      ]
     },
     "execution_count": 3,
     "metadata": {},
     "output_type": "execute_result"
    }
   ],
   "source": [
    "divvy_df.shape"
   ]
  },
  {
   "cell_type": "code",
   "execution_count": 4,
   "metadata": {},
   "outputs": [
    {
     "data": {
      "text/html": [
       "<div>\n",
       "<style scoped>\n",
       "    .dataframe tbody tr th:only-of-type {\n",
       "        vertical-align: middle;\n",
       "    }\n",
       "\n",
       "    .dataframe tbody tr th {\n",
       "        vertical-align: top;\n",
       "    }\n",
       "\n",
       "    .dataframe thead th {\n",
       "        text-align: right;\n",
       "    }\n",
       "</style>\n",
       "<table border=\"1\" class=\"dataframe\">\n",
       "  <thead>\n",
       "    <tr style=\"text-align: right;\">\n",
       "      <th></th>\n",
       "      <th>trip_id</th>\n",
       "      <th>start_time</th>\n",
       "      <th>end_time</th>\n",
       "      <th>bikeid</th>\n",
       "      <th>tripduration</th>\n",
       "      <th>from_station_id</th>\n",
       "      <th>from_station_name</th>\n",
       "      <th>to_station_id</th>\n",
       "      <th>to_station_name</th>\n",
       "      <th>usertype</th>\n",
       "      <th>gender</th>\n",
       "      <th>birthyear</th>\n",
       "    </tr>\n",
       "  </thead>\n",
       "  <tbody>\n",
       "    <tr>\n",
       "      <th>0</th>\n",
       "      <td>23479388</td>\n",
       "      <td>2019-07-01 00:00:27</td>\n",
       "      <td>2019-07-01 00:20:41</td>\n",
       "      <td>3591</td>\n",
       "      <td>1,214.0</td>\n",
       "      <td>117</td>\n",
       "      <td>Wilton Ave &amp; Belmont Ave</td>\n",
       "      <td>497</td>\n",
       "      <td>Kimball Ave &amp; Belmont Ave</td>\n",
       "      <td>Subscriber</td>\n",
       "      <td>Male</td>\n",
       "      <td>1992.0</td>\n",
       "    </tr>\n",
       "    <tr>\n",
       "      <th>5</th>\n",
       "      <td>23479393</td>\n",
       "      <td>2019-07-01 00:02:21</td>\n",
       "      <td>2019-07-01 00:07:31</td>\n",
       "      <td>4941</td>\n",
       "      <td>310.0</td>\n",
       "      <td>300</td>\n",
       "      <td>Broadway &amp; Barry Ave</td>\n",
       "      <td>232</td>\n",
       "      <td>Pine Grove Ave &amp; Waveland Ave</td>\n",
       "      <td>Subscriber</td>\n",
       "      <td>Male</td>\n",
       "      <td>1990.0</td>\n",
       "    </tr>\n",
       "    <tr>\n",
       "      <th>18</th>\n",
       "      <td>23479406</td>\n",
       "      <td>2019-07-01 00:06:51</td>\n",
       "      <td>2019-07-01 00:26:22</td>\n",
       "      <td>2758</td>\n",
       "      <td>1,171.0</td>\n",
       "      <td>624</td>\n",
       "      <td>Dearborn St &amp; Van Buren St</td>\n",
       "      <td>237</td>\n",
       "      <td>MLK Jr Dr &amp; 29th St</td>\n",
       "      <td>Subscriber</td>\n",
       "      <td>Male</td>\n",
       "      <td>1995.0</td>\n",
       "    </tr>\n",
       "    <tr>\n",
       "      <th>20</th>\n",
       "      <td>23479408</td>\n",
       "      <td>2019-07-01 00:08:24</td>\n",
       "      <td>2019-07-01 00:20:07</td>\n",
       "      <td>2447</td>\n",
       "      <td>703.0</td>\n",
       "      <td>239</td>\n",
       "      <td>Western Ave &amp; Leland Ave</td>\n",
       "      <td>455</td>\n",
       "      <td>Maplewood Ave &amp; Peterson Ave</td>\n",
       "      <td>Subscriber</td>\n",
       "      <td>Male</td>\n",
       "      <td>1970.0</td>\n",
       "    </tr>\n",
       "    <tr>\n",
       "      <th>21</th>\n",
       "      <td>23479409</td>\n",
       "      <td>2019-07-01 00:08:40</td>\n",
       "      <td>2019-07-01 00:27:50</td>\n",
       "      <td>6336</td>\n",
       "      <td>1,150.0</td>\n",
       "      <td>257</td>\n",
       "      <td>Lincoln Ave &amp; Waveland Ave</td>\n",
       "      <td>295</td>\n",
       "      <td>Broadway &amp; Argyle St</td>\n",
       "      <td>Subscriber</td>\n",
       "      <td>Male</td>\n",
       "      <td>1993.0</td>\n",
       "    </tr>\n",
       "    <tr>\n",
       "      <th>...</th>\n",
       "      <td>...</td>\n",
       "      <td>...</td>\n",
       "      <td>...</td>\n",
       "      <td>...</td>\n",
       "      <td>...</td>\n",
       "      <td>...</td>\n",
       "      <td>...</td>\n",
       "      <td>...</td>\n",
       "      <td>...</td>\n",
       "      <td>...</td>\n",
       "      <td>...</td>\n",
       "      <td>...</td>\n",
       "    </tr>\n",
       "    <tr>\n",
       "      <th>1640713</th>\n",
       "      <td>25223635</td>\n",
       "      <td>2019-09-30 23:56:27</td>\n",
       "      <td>2019-10-01 00:06:20</td>\n",
       "      <td>5690</td>\n",
       "      <td>593.0</td>\n",
       "      <td>84</td>\n",
       "      <td>Milwaukee Ave &amp; Grand Ave</td>\n",
       "      <td>134</td>\n",
       "      <td>Peoria St &amp; Jackson Blvd</td>\n",
       "      <td>Subscriber</td>\n",
       "      <td>Male</td>\n",
       "      <td>1993.0</td>\n",
       "    </tr>\n",
       "    <tr>\n",
       "      <th>1640714</th>\n",
       "      <td>25223636</td>\n",
       "      <td>2019-09-30 23:57:02</td>\n",
       "      <td>2019-10-01 00:02:13</td>\n",
       "      <td>5079</td>\n",
       "      <td>310.0</td>\n",
       "      <td>268</td>\n",
       "      <td>Lake Shore Dr &amp; North Blvd</td>\n",
       "      <td>85</td>\n",
       "      <td>Michigan Ave &amp; Oak St</td>\n",
       "      <td>Subscriber</td>\n",
       "      <td>Male</td>\n",
       "      <td>1992.0</td>\n",
       "    </tr>\n",
       "    <tr>\n",
       "      <th>1640715</th>\n",
       "      <td>25223637</td>\n",
       "      <td>2019-09-30 23:57:45</td>\n",
       "      <td>2019-10-01 00:01:41</td>\n",
       "      <td>5535</td>\n",
       "      <td>235.0</td>\n",
       "      <td>423</td>\n",
       "      <td>University Ave &amp; 57th St</td>\n",
       "      <td>426</td>\n",
       "      <td>Ellis Ave &amp; 60th St</td>\n",
       "      <td>Customer</td>\n",
       "      <td>Male</td>\n",
       "      <td>2000.0</td>\n",
       "    </tr>\n",
       "    <tr>\n",
       "      <th>1640716</th>\n",
       "      <td>25223638</td>\n",
       "      <td>2019-09-30 23:57:47</td>\n",
       "      <td>2019-10-01 00:04:41</td>\n",
       "      <td>6120</td>\n",
       "      <td>414.0</td>\n",
       "      <td>110</td>\n",
       "      <td>Dearborn St &amp; Erie St</td>\n",
       "      <td>31</td>\n",
       "      <td>Franklin St &amp; Chicago Ave (Temp)</td>\n",
       "      <td>Subscriber</td>\n",
       "      <td>Male</td>\n",
       "      <td>1986.0</td>\n",
       "    </tr>\n",
       "    <tr>\n",
       "      <th>1640717</th>\n",
       "      <td>25223639</td>\n",
       "      <td>2019-09-30 23:59:37</td>\n",
       "      <td>2019-10-01 00:05:17</td>\n",
       "      <td>60</td>\n",
       "      <td>339.0</td>\n",
       "      <td>265</td>\n",
       "      <td>Cottage Grove Ave &amp; Oakwood Blvd</td>\n",
       "      <td>179</td>\n",
       "      <td>MLK Jr Dr &amp; Pershing Rd</td>\n",
       "      <td>Subscriber</td>\n",
       "      <td>Female</td>\n",
       "      <td>1996.0</td>\n",
       "    </tr>\n",
       "  </tbody>\n",
       "</table>\n",
       "<p>1353368 rows × 12 columns</p>\n",
       "</div>"
      ],
      "text/plain": [
       "          trip_id           start_time             end_time  bikeid  \\\n",
       "0        23479388  2019-07-01 00:00:27  2019-07-01 00:20:41    3591   \n",
       "5        23479393  2019-07-01 00:02:21  2019-07-01 00:07:31    4941   \n",
       "18       23479406  2019-07-01 00:06:51  2019-07-01 00:26:22    2758   \n",
       "20       23479408  2019-07-01 00:08:24  2019-07-01 00:20:07    2447   \n",
       "21       23479409  2019-07-01 00:08:40  2019-07-01 00:27:50    6336   \n",
       "...           ...                  ...                  ...     ...   \n",
       "1640713  25223635  2019-09-30 23:56:27  2019-10-01 00:06:20    5690   \n",
       "1640714  25223636  2019-09-30 23:57:02  2019-10-01 00:02:13    5079   \n",
       "1640715  25223637  2019-09-30 23:57:45  2019-10-01 00:01:41    5535   \n",
       "1640716  25223638  2019-09-30 23:57:47  2019-10-01 00:04:41    6120   \n",
       "1640717  25223639  2019-09-30 23:59:37  2019-10-01 00:05:17      60   \n",
       "\n",
       "        tripduration  from_station_id                 from_station_name  \\\n",
       "0            1,214.0              117          Wilton Ave & Belmont Ave   \n",
       "5              310.0              300              Broadway & Barry Ave   \n",
       "18           1,171.0              624        Dearborn St & Van Buren St   \n",
       "20             703.0              239          Western Ave & Leland Ave   \n",
       "21           1,150.0              257        Lincoln Ave & Waveland Ave   \n",
       "...              ...              ...                               ...   \n",
       "1640713        593.0               84         Milwaukee Ave & Grand Ave   \n",
       "1640714        310.0              268        Lake Shore Dr & North Blvd   \n",
       "1640715        235.0              423          University Ave & 57th St   \n",
       "1640716        414.0              110             Dearborn St & Erie St   \n",
       "1640717        339.0              265  Cottage Grove Ave & Oakwood Blvd   \n",
       "\n",
       "         to_station_id                   to_station_name    usertype  gender  \\\n",
       "0                  497         Kimball Ave & Belmont Ave  Subscriber    Male   \n",
       "5                  232     Pine Grove Ave & Waveland Ave  Subscriber    Male   \n",
       "18                 237               MLK Jr Dr & 29th St  Subscriber    Male   \n",
       "20                 455      Maplewood Ave & Peterson Ave  Subscriber    Male   \n",
       "21                 295              Broadway & Argyle St  Subscriber    Male   \n",
       "...                ...                               ...         ...     ...   \n",
       "1640713            134          Peoria St & Jackson Blvd  Subscriber    Male   \n",
       "1640714             85             Michigan Ave & Oak St  Subscriber    Male   \n",
       "1640715            426               Ellis Ave & 60th St    Customer    Male   \n",
       "1640716             31  Franklin St & Chicago Ave (Temp)  Subscriber    Male   \n",
       "1640717            179           MLK Jr Dr & Pershing Rd  Subscriber  Female   \n",
       "\n",
       "         birthyear  \n",
       "0           1992.0  \n",
       "5           1990.0  \n",
       "18          1995.0  \n",
       "20          1970.0  \n",
       "21          1993.0  \n",
       "...            ...  \n",
       "1640713     1993.0  \n",
       "1640714     1992.0  \n",
       "1640715     2000.0  \n",
       "1640716     1986.0  \n",
       "1640717     1996.0  \n",
       "\n",
       "[1353368 rows x 12 columns]"
      ]
     },
     "execution_count": 4,
     "metadata": {},
     "output_type": "execute_result"
    }
   ],
   "source": [
    "# Remove null rows\n",
    "divvy_df.dropna(inplace=True)\n",
    "divvy_df.shape\n",
    "\n",
    "divvy_df"
   ]
  },
  {
   "cell_type": "code",
   "execution_count": 5,
   "metadata": {},
   "outputs": [
    {
     "data": {
      "text/html": [
       "<div>\n",
       "<style scoped>\n",
       "    .dataframe tbody tr th:only-of-type {\n",
       "        vertical-align: middle;\n",
       "    }\n",
       "\n",
       "    .dataframe tbody tr th {\n",
       "        vertical-align: top;\n",
       "    }\n",
       "\n",
       "    .dataframe thead th {\n",
       "        text-align: right;\n",
       "    }\n",
       "</style>\n",
       "<table border=\"1\" class=\"dataframe\">\n",
       "  <thead>\n",
       "    <tr style=\"text-align: right;\">\n",
       "      <th></th>\n",
       "      <th>trip_id</th>\n",
       "      <th>start_time</th>\n",
       "      <th>end_time</th>\n",
       "      <th>bikeid</th>\n",
       "      <th>tripduration</th>\n",
       "      <th>from_station_id</th>\n",
       "      <th>from_station_name</th>\n",
       "      <th>to_station_id</th>\n",
       "      <th>to_station_name</th>\n",
       "      <th>usertype</th>\n",
       "      <th>gender</th>\n",
       "      <th>birthyear</th>\n",
       "      <th>age</th>\n",
       "    </tr>\n",
       "  </thead>\n",
       "  <tbody>\n",
       "    <tr>\n",
       "      <th>0</th>\n",
       "      <td>23479388</td>\n",
       "      <td>2019-07-01 00:00:27</td>\n",
       "      <td>2019-07-01 00:20:41</td>\n",
       "      <td>3591</td>\n",
       "      <td>1,214.0</td>\n",
       "      <td>117</td>\n",
       "      <td>Wilton Ave &amp; Belmont Ave</td>\n",
       "      <td>497</td>\n",
       "      <td>Kimball Ave &amp; Belmont Ave</td>\n",
       "      <td>Subscriber</td>\n",
       "      <td>Male</td>\n",
       "      <td>1992.0</td>\n",
       "      <td>27.0</td>\n",
       "    </tr>\n",
       "    <tr>\n",
       "      <th>5</th>\n",
       "      <td>23479393</td>\n",
       "      <td>2019-07-01 00:02:21</td>\n",
       "      <td>2019-07-01 00:07:31</td>\n",
       "      <td>4941</td>\n",
       "      <td>310.0</td>\n",
       "      <td>300</td>\n",
       "      <td>Broadway &amp; Barry Ave</td>\n",
       "      <td>232</td>\n",
       "      <td>Pine Grove Ave &amp; Waveland Ave</td>\n",
       "      <td>Subscriber</td>\n",
       "      <td>Male</td>\n",
       "      <td>1990.0</td>\n",
       "      <td>29.0</td>\n",
       "    </tr>\n",
       "    <tr>\n",
       "      <th>18</th>\n",
       "      <td>23479406</td>\n",
       "      <td>2019-07-01 00:06:51</td>\n",
       "      <td>2019-07-01 00:26:22</td>\n",
       "      <td>2758</td>\n",
       "      <td>1,171.0</td>\n",
       "      <td>624</td>\n",
       "      <td>Dearborn St &amp; Van Buren St</td>\n",
       "      <td>237</td>\n",
       "      <td>MLK Jr Dr &amp; 29th St</td>\n",
       "      <td>Subscriber</td>\n",
       "      <td>Male</td>\n",
       "      <td>1995.0</td>\n",
       "      <td>24.0</td>\n",
       "    </tr>\n",
       "    <tr>\n",
       "      <th>20</th>\n",
       "      <td>23479408</td>\n",
       "      <td>2019-07-01 00:08:24</td>\n",
       "      <td>2019-07-01 00:20:07</td>\n",
       "      <td>2447</td>\n",
       "      <td>703.0</td>\n",
       "      <td>239</td>\n",
       "      <td>Western Ave &amp; Leland Ave</td>\n",
       "      <td>455</td>\n",
       "      <td>Maplewood Ave &amp; Peterson Ave</td>\n",
       "      <td>Subscriber</td>\n",
       "      <td>Male</td>\n",
       "      <td>1970.0</td>\n",
       "      <td>49.0</td>\n",
       "    </tr>\n",
       "    <tr>\n",
       "      <th>21</th>\n",
       "      <td>23479409</td>\n",
       "      <td>2019-07-01 00:08:40</td>\n",
       "      <td>2019-07-01 00:27:50</td>\n",
       "      <td>6336</td>\n",
       "      <td>1,150.0</td>\n",
       "      <td>257</td>\n",
       "      <td>Lincoln Ave &amp; Waveland Ave</td>\n",
       "      <td>295</td>\n",
       "      <td>Broadway &amp; Argyle St</td>\n",
       "      <td>Subscriber</td>\n",
       "      <td>Male</td>\n",
       "      <td>1993.0</td>\n",
       "      <td>26.0</td>\n",
       "    </tr>\n",
       "  </tbody>\n",
       "</table>\n",
       "</div>"
      ],
      "text/plain": [
       "     trip_id           start_time             end_time  bikeid tripduration  \\\n",
       "0   23479388  2019-07-01 00:00:27  2019-07-01 00:20:41    3591      1,214.0   \n",
       "5   23479393  2019-07-01 00:02:21  2019-07-01 00:07:31    4941        310.0   \n",
       "18  23479406  2019-07-01 00:06:51  2019-07-01 00:26:22    2758      1,171.0   \n",
       "20  23479408  2019-07-01 00:08:24  2019-07-01 00:20:07    2447        703.0   \n",
       "21  23479409  2019-07-01 00:08:40  2019-07-01 00:27:50    6336      1,150.0   \n",
       "\n",
       "    from_station_id           from_station_name  to_station_id  \\\n",
       "0               117    Wilton Ave & Belmont Ave            497   \n",
       "5               300        Broadway & Barry Ave            232   \n",
       "18              624  Dearborn St & Van Buren St            237   \n",
       "20              239    Western Ave & Leland Ave            455   \n",
       "21              257  Lincoln Ave & Waveland Ave            295   \n",
       "\n",
       "                  to_station_name    usertype gender  birthyear   age  \n",
       "0       Kimball Ave & Belmont Ave  Subscriber   Male     1992.0  27.0  \n",
       "5   Pine Grove Ave & Waveland Ave  Subscriber   Male     1990.0  29.0  \n",
       "18            MLK Jr Dr & 29th St  Subscriber   Male     1995.0  24.0  \n",
       "20   Maplewood Ave & Peterson Ave  Subscriber   Male     1970.0  49.0  \n",
       "21           Broadway & Argyle St  Subscriber   Male     1993.0  26.0  "
      ]
     },
     "execution_count": 5,
     "metadata": {},
     "output_type": "execute_result"
    }
   ],
   "source": [
    "# Convert birthyear to age\n",
    "divvy_df['age'] = (2019 - divvy_df['birthyear'])\n",
    "divvy_df.head()"
   ]
  },
  {
   "cell_type": "code",
   "execution_count": 6,
   "metadata": {},
   "outputs": [
    {
     "data": {
      "text/html": [
       "<div>\n",
       "<style scoped>\n",
       "    .dataframe tbody tr th:only-of-type {\n",
       "        vertical-align: middle;\n",
       "    }\n",
       "\n",
       "    .dataframe tbody tr th {\n",
       "        vertical-align: top;\n",
       "    }\n",
       "\n",
       "    .dataframe thead th {\n",
       "        text-align: right;\n",
       "    }\n",
       "</style>\n",
       "<table border=\"1\" class=\"dataframe\">\n",
       "  <thead>\n",
       "    <tr style=\"text-align: right;\">\n",
       "      <th></th>\n",
       "      <th>trip_id</th>\n",
       "      <th>start_time</th>\n",
       "      <th>end_time</th>\n",
       "      <th>bikeid</th>\n",
       "      <th>tripduration</th>\n",
       "      <th>from_station_id</th>\n",
       "      <th>from_station_name</th>\n",
       "      <th>to_station_id</th>\n",
       "      <th>to_station_name</th>\n",
       "      <th>usertype</th>\n",
       "      <th>gender</th>\n",
       "      <th>birthyear</th>\n",
       "      <th>age</th>\n",
       "      <th>Age Group</th>\n",
       "    </tr>\n",
       "  </thead>\n",
       "  <tbody>\n",
       "    <tr>\n",
       "      <th>0</th>\n",
       "      <td>23479388</td>\n",
       "      <td>2019-07-01 00:00:27</td>\n",
       "      <td>2019-07-01 00:20:41</td>\n",
       "      <td>3591</td>\n",
       "      <td>1,214.0</td>\n",
       "      <td>117</td>\n",
       "      <td>Wilton Ave &amp; Belmont Ave</td>\n",
       "      <td>497</td>\n",
       "      <td>Kimball Ave &amp; Belmont Ave</td>\n",
       "      <td>Subscriber</td>\n",
       "      <td>Male</td>\n",
       "      <td>1992.0</td>\n",
       "      <td>27.0</td>\n",
       "      <td>20-29</td>\n",
       "    </tr>\n",
       "    <tr>\n",
       "      <th>5</th>\n",
       "      <td>23479393</td>\n",
       "      <td>2019-07-01 00:02:21</td>\n",
       "      <td>2019-07-01 00:07:31</td>\n",
       "      <td>4941</td>\n",
       "      <td>310.0</td>\n",
       "      <td>300</td>\n",
       "      <td>Broadway &amp; Barry Ave</td>\n",
       "      <td>232</td>\n",
       "      <td>Pine Grove Ave &amp; Waveland Ave</td>\n",
       "      <td>Subscriber</td>\n",
       "      <td>Male</td>\n",
       "      <td>1990.0</td>\n",
       "      <td>29.0</td>\n",
       "      <td>20-29</td>\n",
       "    </tr>\n",
       "    <tr>\n",
       "      <th>18</th>\n",
       "      <td>23479406</td>\n",
       "      <td>2019-07-01 00:06:51</td>\n",
       "      <td>2019-07-01 00:26:22</td>\n",
       "      <td>2758</td>\n",
       "      <td>1,171.0</td>\n",
       "      <td>624</td>\n",
       "      <td>Dearborn St &amp; Van Buren St</td>\n",
       "      <td>237</td>\n",
       "      <td>MLK Jr Dr &amp; 29th St</td>\n",
       "      <td>Subscriber</td>\n",
       "      <td>Male</td>\n",
       "      <td>1995.0</td>\n",
       "      <td>24.0</td>\n",
       "      <td>20-29</td>\n",
       "    </tr>\n",
       "    <tr>\n",
       "      <th>20</th>\n",
       "      <td>23479408</td>\n",
       "      <td>2019-07-01 00:08:24</td>\n",
       "      <td>2019-07-01 00:20:07</td>\n",
       "      <td>2447</td>\n",
       "      <td>703.0</td>\n",
       "      <td>239</td>\n",
       "      <td>Western Ave &amp; Leland Ave</td>\n",
       "      <td>455</td>\n",
       "      <td>Maplewood Ave &amp; Peterson Ave</td>\n",
       "      <td>Subscriber</td>\n",
       "      <td>Male</td>\n",
       "      <td>1970.0</td>\n",
       "      <td>49.0</td>\n",
       "      <td>40-49</td>\n",
       "    </tr>\n",
       "    <tr>\n",
       "      <th>21</th>\n",
       "      <td>23479409</td>\n",
       "      <td>2019-07-01 00:08:40</td>\n",
       "      <td>2019-07-01 00:27:50</td>\n",
       "      <td>6336</td>\n",
       "      <td>1,150.0</td>\n",
       "      <td>257</td>\n",
       "      <td>Lincoln Ave &amp; Waveland Ave</td>\n",
       "      <td>295</td>\n",
       "      <td>Broadway &amp; Argyle St</td>\n",
       "      <td>Subscriber</td>\n",
       "      <td>Male</td>\n",
       "      <td>1993.0</td>\n",
       "      <td>26.0</td>\n",
       "      <td>20-29</td>\n",
       "    </tr>\n",
       "  </tbody>\n",
       "</table>\n",
       "</div>"
      ],
      "text/plain": [
       "     trip_id           start_time             end_time  bikeid tripduration  \\\n",
       "0   23479388  2019-07-01 00:00:27  2019-07-01 00:20:41    3591      1,214.0   \n",
       "5   23479393  2019-07-01 00:02:21  2019-07-01 00:07:31    4941        310.0   \n",
       "18  23479406  2019-07-01 00:06:51  2019-07-01 00:26:22    2758      1,171.0   \n",
       "20  23479408  2019-07-01 00:08:24  2019-07-01 00:20:07    2447        703.0   \n",
       "21  23479409  2019-07-01 00:08:40  2019-07-01 00:27:50    6336      1,150.0   \n",
       "\n",
       "    from_station_id           from_station_name  to_station_id  \\\n",
       "0               117    Wilton Ave & Belmont Ave            497   \n",
       "5               300        Broadway & Barry Ave            232   \n",
       "18              624  Dearborn St & Van Buren St            237   \n",
       "20              239    Western Ave & Leland Ave            455   \n",
       "21              257  Lincoln Ave & Waveland Ave            295   \n",
       "\n",
       "                  to_station_name    usertype gender  birthyear   age  \\\n",
       "0       Kimball Ave & Belmont Ave  Subscriber   Male     1992.0  27.0   \n",
       "5   Pine Grove Ave & Waveland Ave  Subscriber   Male     1990.0  29.0   \n",
       "18            MLK Jr Dr & 29th St  Subscriber   Male     1995.0  24.0   \n",
       "20   Maplewood Ave & Peterson Ave  Subscriber   Male     1970.0  49.0   \n",
       "21           Broadway & Argyle St  Subscriber   Male     1993.0  26.0   \n",
       "\n",
       "   Age Group  \n",
       "0      20-29  \n",
       "5      20-29  \n",
       "18     20-29  \n",
       "20     40-49  \n",
       "21     20-29  "
      ]
     },
     "execution_count": 6,
     "metadata": {},
     "output_type": "execute_result"
    }
   ],
   "source": [
    "# Create bins for age\n",
    "bins = [10, 20, 30, 40, 50, 60, 70, 80, 90]\n",
    "\n",
    "# Create the names for the five bins\n",
    "group_names = [\"11-19\", \"20-29\", \"30-39\", \"40-49\", \"50-59\", \"60-69\", \"70-79\", \"80-89\"]\n",
    "divvy_df[\"Age Group\"] = pd.cut(divvy_df[\"age\"], bins, labels=group_names, include_lowest=True)\n",
    "divvy_df.head()"
   ]
  },
  {
   "cell_type": "code",
   "execution_count": 7,
   "metadata": {
    "scrolled": true
   },
   "outputs": [],
   "source": [
    "# Convert date columns to datetime format\n",
    "divvy_df['start_time'] = pd.to_datetime(divvy_df['start_time'])\n",
    "divvy_df['end_time'] = pd.to_datetime(divvy_df['end_time'])"
   ]
  },
  {
   "cell_type": "code",
   "execution_count": 8,
   "metadata": {
    "scrolled": true
   },
   "outputs": [
    {
     "data": {
      "text/html": [
       "<div>\n",
       "<style scoped>\n",
       "    .dataframe tbody tr th:only-of-type {\n",
       "        vertical-align: middle;\n",
       "    }\n",
       "\n",
       "    .dataframe tbody tr th {\n",
       "        vertical-align: top;\n",
       "    }\n",
       "\n",
       "    .dataframe thead th {\n",
       "        text-align: right;\n",
       "    }\n",
       "</style>\n",
       "<table border=\"1\" class=\"dataframe\">\n",
       "  <thead>\n",
       "    <tr style=\"text-align: right;\">\n",
       "      <th></th>\n",
       "      <th>trip_id</th>\n",
       "      <th>start_time</th>\n",
       "      <th>end_time</th>\n",
       "      <th>bikeid</th>\n",
       "      <th>tripduration</th>\n",
       "      <th>from_station_id</th>\n",
       "      <th>from_station_name</th>\n",
       "      <th>to_station_id</th>\n",
       "      <th>to_station_name</th>\n",
       "      <th>usertype</th>\n",
       "      <th>gender</th>\n",
       "      <th>birthyear</th>\n",
       "      <th>age</th>\n",
       "      <th>Age Group</th>\n",
       "      <th>start_date</th>\n",
       "      <th>end_date</th>\n",
       "    </tr>\n",
       "  </thead>\n",
       "  <tbody>\n",
       "    <tr>\n",
       "      <th>0</th>\n",
       "      <td>23479388</td>\n",
       "      <td>00:00:27</td>\n",
       "      <td>00:20:41</td>\n",
       "      <td>3591</td>\n",
       "      <td>1,214.0</td>\n",
       "      <td>117</td>\n",
       "      <td>Wilton Ave &amp; Belmont Ave</td>\n",
       "      <td>497</td>\n",
       "      <td>Kimball Ave &amp; Belmont Ave</td>\n",
       "      <td>Subscriber</td>\n",
       "      <td>Male</td>\n",
       "      <td>1992.0</td>\n",
       "      <td>27.0</td>\n",
       "      <td>20-29</td>\n",
       "      <td>2019-07-01</td>\n",
       "      <td>2019-07-01</td>\n",
       "    </tr>\n",
       "    <tr>\n",
       "      <th>5</th>\n",
       "      <td>23479393</td>\n",
       "      <td>00:02:21</td>\n",
       "      <td>00:07:31</td>\n",
       "      <td>4941</td>\n",
       "      <td>310.0</td>\n",
       "      <td>300</td>\n",
       "      <td>Broadway &amp; Barry Ave</td>\n",
       "      <td>232</td>\n",
       "      <td>Pine Grove Ave &amp; Waveland Ave</td>\n",
       "      <td>Subscriber</td>\n",
       "      <td>Male</td>\n",
       "      <td>1990.0</td>\n",
       "      <td>29.0</td>\n",
       "      <td>20-29</td>\n",
       "      <td>2019-07-01</td>\n",
       "      <td>2019-07-01</td>\n",
       "    </tr>\n",
       "    <tr>\n",
       "      <th>18</th>\n",
       "      <td>23479406</td>\n",
       "      <td>00:06:51</td>\n",
       "      <td>00:26:22</td>\n",
       "      <td>2758</td>\n",
       "      <td>1,171.0</td>\n",
       "      <td>624</td>\n",
       "      <td>Dearborn St &amp; Van Buren St</td>\n",
       "      <td>237</td>\n",
       "      <td>MLK Jr Dr &amp; 29th St</td>\n",
       "      <td>Subscriber</td>\n",
       "      <td>Male</td>\n",
       "      <td>1995.0</td>\n",
       "      <td>24.0</td>\n",
       "      <td>20-29</td>\n",
       "      <td>2019-07-01</td>\n",
       "      <td>2019-07-01</td>\n",
       "    </tr>\n",
       "    <tr>\n",
       "      <th>20</th>\n",
       "      <td>23479408</td>\n",
       "      <td>00:08:24</td>\n",
       "      <td>00:20:07</td>\n",
       "      <td>2447</td>\n",
       "      <td>703.0</td>\n",
       "      <td>239</td>\n",
       "      <td>Western Ave &amp; Leland Ave</td>\n",
       "      <td>455</td>\n",
       "      <td>Maplewood Ave &amp; Peterson Ave</td>\n",
       "      <td>Subscriber</td>\n",
       "      <td>Male</td>\n",
       "      <td>1970.0</td>\n",
       "      <td>49.0</td>\n",
       "      <td>40-49</td>\n",
       "      <td>2019-07-01</td>\n",
       "      <td>2019-07-01</td>\n",
       "    </tr>\n",
       "    <tr>\n",
       "      <th>21</th>\n",
       "      <td>23479409</td>\n",
       "      <td>00:08:40</td>\n",
       "      <td>00:27:50</td>\n",
       "      <td>6336</td>\n",
       "      <td>1,150.0</td>\n",
       "      <td>257</td>\n",
       "      <td>Lincoln Ave &amp; Waveland Ave</td>\n",
       "      <td>295</td>\n",
       "      <td>Broadway &amp; Argyle St</td>\n",
       "      <td>Subscriber</td>\n",
       "      <td>Male</td>\n",
       "      <td>1993.0</td>\n",
       "      <td>26.0</td>\n",
       "      <td>20-29</td>\n",
       "      <td>2019-07-01</td>\n",
       "      <td>2019-07-01</td>\n",
       "    </tr>\n",
       "  </tbody>\n",
       "</table>\n",
       "</div>"
      ],
      "text/plain": [
       "     trip_id start_time  end_time  bikeid tripduration  from_station_id  \\\n",
       "0   23479388   00:00:27  00:20:41    3591      1,214.0              117   \n",
       "5   23479393   00:02:21  00:07:31    4941        310.0              300   \n",
       "18  23479406   00:06:51  00:26:22    2758      1,171.0              624   \n",
       "20  23479408   00:08:24  00:20:07    2447        703.0              239   \n",
       "21  23479409   00:08:40  00:27:50    6336      1,150.0              257   \n",
       "\n",
       "             from_station_name  to_station_id                to_station_name  \\\n",
       "0     Wilton Ave & Belmont Ave            497      Kimball Ave & Belmont Ave   \n",
       "5         Broadway & Barry Ave            232  Pine Grove Ave & Waveland Ave   \n",
       "18  Dearborn St & Van Buren St            237            MLK Jr Dr & 29th St   \n",
       "20    Western Ave & Leland Ave            455   Maplewood Ave & Peterson Ave   \n",
       "21  Lincoln Ave & Waveland Ave            295           Broadway & Argyle St   \n",
       "\n",
       "      usertype gender  birthyear   age Age Group  start_date    end_date  \n",
       "0   Subscriber   Male     1992.0  27.0     20-29  2019-07-01  2019-07-01  \n",
       "5   Subscriber   Male     1990.0  29.0     20-29  2019-07-01  2019-07-01  \n",
       "18  Subscriber   Male     1995.0  24.0     20-29  2019-07-01  2019-07-01  \n",
       "20  Subscriber   Male     1970.0  49.0     40-49  2019-07-01  2019-07-01  \n",
       "21  Subscriber   Male     1993.0  26.0     20-29  2019-07-01  2019-07-01  "
      ]
     },
     "execution_count": 8,
     "metadata": {},
     "output_type": "execute_result"
    }
   ],
   "source": [
    "# Split date from time and create columns\n",
    "divvy_df['start_date'] = divvy_df['start_time'].dt.date\n",
    "divvy_df['start_time'] = divvy_df['start_time'].dt.time\n",
    "divvy_df['end_date'] = divvy_df['end_time'].dt.date\n",
    "divvy_df['end_time'] = divvy_df['end_time'].dt.time\n",
    "divvy_df.head()"
   ]
  },
  {
   "cell_type": "code",
   "execution_count": 9,
   "metadata": {
    "scrolled": true
   },
   "outputs": [
    {
     "data": {
      "text/html": [
       "<div>\n",
       "<style scoped>\n",
       "    .dataframe tbody tr th:only-of-type {\n",
       "        vertical-align: middle;\n",
       "    }\n",
       "\n",
       "    .dataframe tbody tr th {\n",
       "        vertical-align: top;\n",
       "    }\n",
       "\n",
       "    .dataframe thead th {\n",
       "        text-align: right;\n",
       "    }\n",
       "</style>\n",
       "<table border=\"1\" class=\"dataframe\">\n",
       "  <thead>\n",
       "    <tr style=\"text-align: right;\">\n",
       "      <th></th>\n",
       "      <th>trip_id</th>\n",
       "      <th>bikeid</th>\n",
       "      <th>start_date</th>\n",
       "      <th>start_time</th>\n",
       "      <th>end_date</th>\n",
       "      <th>end_time</th>\n",
       "      <th>tripduration</th>\n",
       "      <th>from_station_id</th>\n",
       "      <th>from_station_name</th>\n",
       "      <th>to_station_id</th>\n",
       "      <th>to_station_name</th>\n",
       "      <th>usertype</th>\n",
       "      <th>gender</th>\n",
       "      <th>birthyear</th>\n",
       "      <th>age</th>\n",
       "      <th>Age Group</th>\n",
       "    </tr>\n",
       "  </thead>\n",
       "  <tbody>\n",
       "    <tr>\n",
       "      <th>0</th>\n",
       "      <td>23479388</td>\n",
       "      <td>3591</td>\n",
       "      <td>2019-07-01</td>\n",
       "      <td>00:00:27</td>\n",
       "      <td>2019-07-01</td>\n",
       "      <td>00:20:41</td>\n",
       "      <td>1,214.0</td>\n",
       "      <td>117</td>\n",
       "      <td>Wilton Ave &amp; Belmont Ave</td>\n",
       "      <td>497</td>\n",
       "      <td>Kimball Ave &amp; Belmont Ave</td>\n",
       "      <td>Subscriber</td>\n",
       "      <td>Male</td>\n",
       "      <td>1992.0</td>\n",
       "      <td>27.0</td>\n",
       "      <td>20-29</td>\n",
       "    </tr>\n",
       "    <tr>\n",
       "      <th>5</th>\n",
       "      <td>23479393</td>\n",
       "      <td>4941</td>\n",
       "      <td>2019-07-01</td>\n",
       "      <td>00:02:21</td>\n",
       "      <td>2019-07-01</td>\n",
       "      <td>00:07:31</td>\n",
       "      <td>310.0</td>\n",
       "      <td>300</td>\n",
       "      <td>Broadway &amp; Barry Ave</td>\n",
       "      <td>232</td>\n",
       "      <td>Pine Grove Ave &amp; Waveland Ave</td>\n",
       "      <td>Subscriber</td>\n",
       "      <td>Male</td>\n",
       "      <td>1990.0</td>\n",
       "      <td>29.0</td>\n",
       "      <td>20-29</td>\n",
       "    </tr>\n",
       "    <tr>\n",
       "      <th>18</th>\n",
       "      <td>23479406</td>\n",
       "      <td>2758</td>\n",
       "      <td>2019-07-01</td>\n",
       "      <td>00:06:51</td>\n",
       "      <td>2019-07-01</td>\n",
       "      <td>00:26:22</td>\n",
       "      <td>1,171.0</td>\n",
       "      <td>624</td>\n",
       "      <td>Dearborn St &amp; Van Buren St</td>\n",
       "      <td>237</td>\n",
       "      <td>MLK Jr Dr &amp; 29th St</td>\n",
       "      <td>Subscriber</td>\n",
       "      <td>Male</td>\n",
       "      <td>1995.0</td>\n",
       "      <td>24.0</td>\n",
       "      <td>20-29</td>\n",
       "    </tr>\n",
       "    <tr>\n",
       "      <th>20</th>\n",
       "      <td>23479408</td>\n",
       "      <td>2447</td>\n",
       "      <td>2019-07-01</td>\n",
       "      <td>00:08:24</td>\n",
       "      <td>2019-07-01</td>\n",
       "      <td>00:20:07</td>\n",
       "      <td>703.0</td>\n",
       "      <td>239</td>\n",
       "      <td>Western Ave &amp; Leland Ave</td>\n",
       "      <td>455</td>\n",
       "      <td>Maplewood Ave &amp; Peterson Ave</td>\n",
       "      <td>Subscriber</td>\n",
       "      <td>Male</td>\n",
       "      <td>1970.0</td>\n",
       "      <td>49.0</td>\n",
       "      <td>40-49</td>\n",
       "    </tr>\n",
       "    <tr>\n",
       "      <th>21</th>\n",
       "      <td>23479409</td>\n",
       "      <td>6336</td>\n",
       "      <td>2019-07-01</td>\n",
       "      <td>00:08:40</td>\n",
       "      <td>2019-07-01</td>\n",
       "      <td>00:27:50</td>\n",
       "      <td>1,150.0</td>\n",
       "      <td>257</td>\n",
       "      <td>Lincoln Ave &amp; Waveland Ave</td>\n",
       "      <td>295</td>\n",
       "      <td>Broadway &amp; Argyle St</td>\n",
       "      <td>Subscriber</td>\n",
       "      <td>Male</td>\n",
       "      <td>1993.0</td>\n",
       "      <td>26.0</td>\n",
       "      <td>20-29</td>\n",
       "    </tr>\n",
       "  </tbody>\n",
       "</table>\n",
       "</div>"
      ],
      "text/plain": [
       "     trip_id  bikeid  start_date start_time    end_date  end_time  \\\n",
       "0   23479388    3591  2019-07-01   00:00:27  2019-07-01  00:20:41   \n",
       "5   23479393    4941  2019-07-01   00:02:21  2019-07-01  00:07:31   \n",
       "18  23479406    2758  2019-07-01   00:06:51  2019-07-01  00:26:22   \n",
       "20  23479408    2447  2019-07-01   00:08:24  2019-07-01  00:20:07   \n",
       "21  23479409    6336  2019-07-01   00:08:40  2019-07-01  00:27:50   \n",
       "\n",
       "   tripduration  from_station_id           from_station_name  to_station_id  \\\n",
       "0       1,214.0              117    Wilton Ave & Belmont Ave            497   \n",
       "5         310.0              300        Broadway & Barry Ave            232   \n",
       "18      1,171.0              624  Dearborn St & Van Buren St            237   \n",
       "20        703.0              239    Western Ave & Leland Ave            455   \n",
       "21      1,150.0              257  Lincoln Ave & Waveland Ave            295   \n",
       "\n",
       "                  to_station_name    usertype gender  birthyear   age  \\\n",
       "0       Kimball Ave & Belmont Ave  Subscriber   Male     1992.0  27.0   \n",
       "5   Pine Grove Ave & Waveland Ave  Subscriber   Male     1990.0  29.0   \n",
       "18            MLK Jr Dr & 29th St  Subscriber   Male     1995.0  24.0   \n",
       "20   Maplewood Ave & Peterson Ave  Subscriber   Male     1970.0  49.0   \n",
       "21           Broadway & Argyle St  Subscriber   Male     1993.0  26.0   \n",
       "\n",
       "   Age Group  \n",
       "0      20-29  \n",
       "5      20-29  \n",
       "18     20-29  \n",
       "20     40-49  \n",
       "21     20-29  "
      ]
     },
     "execution_count": 9,
     "metadata": {},
     "output_type": "execute_result"
    }
   ],
   "source": [
    "# Organize columns in dataframe\n",
    "divvy_df = divvy_df[[\"trip_id\", \"bikeid\", \"start_date\", \"start_time\", \"end_date\", \"end_time\", \"tripduration\", \"from_station_id\", \"from_station_name\", \"to_station_id\", \"to_station_name\", \"usertype\", \"gender\", \"birthyear\", \"age\", \"Age Group\"]]\n",
    "divvy_df.head()"
   ]
  },
  {
   "cell_type": "markdown",
   "metadata": {},
   "source": [
    "# Bike Usage"
   ]
  },
  {
   "cell_type": "code",
   "execution_count": 10,
   "metadata": {},
   "outputs": [
    {
     "data": {
      "text/plain": [
       "5783"
      ]
     },
     "execution_count": 10,
     "metadata": {},
     "output_type": "execute_result"
    }
   ],
   "source": [
    "# Number of unique bikes in circulation\n",
    "divvy_df['bikeid'].nunique()"
   ]
  },
  {
   "cell_type": "code",
   "execution_count": 11,
   "metadata": {
    "scrolled": true
   },
   "outputs": [
    {
     "data": {
      "text/plain": [
       "5344    462\n",
       "3770    457\n",
       "717     453\n",
       "5634    445\n",
       "3333    443\n",
       "       ... \n",
       "5098      1\n",
       "6254      1\n",
       "1806      1\n",
       "2292      1\n",
       "3310      1\n",
       "Name: bikeid, Length: 5783, dtype: int64"
      ]
     },
     "execution_count": 11,
     "metadata": {},
     "output_type": "execute_result"
    }
   ],
   "source": [
    "# Bike IDs with most activity\n",
    "divvy_df['bikeid'].value_counts()"
   ]
  },
  {
   "cell_type": "markdown",
   "metadata": {},
   "source": [
    "# Most popular routes and stations"
   ]
  },
  {
   "cell_type": "code",
   "execution_count": 12,
   "metadata": {
    "scrolled": true
   },
   "outputs": [
    {
     "data": {
      "text/plain": [
       "Canal St & Adams St             19106\n",
       "Streeter Dr & Grand Ave         18363\n",
       "Clinton St & Madison St         17965\n",
       "Clinton St & Washington Blvd    16068\n",
       "Lake Shore Dr & North Blvd      13944\n",
       "                                ...  \n",
       "Damen Ave & 59th St                 4\n",
       "Racine Ave & 65th St                3\n",
       "Rhodes Ave & 71st St                3\n",
       "Carpenter St & 63rd St              1\n",
       "Racine Ave & 61st St                1\n",
       "Name: from_station_name, Length: 612, dtype: int64"
      ]
     },
     "execution_count": 12,
     "metadata": {},
     "output_type": "execute_result"
    }
   ],
   "source": [
    "# Most popular starting stations\n",
    "divvy_df['from_station_name'].value_counts()"
   ]
  },
  {
   "cell_type": "code",
   "execution_count": 13,
   "metadata": {},
   "outputs": [
    {
     "data": {
      "text/plain": [
       "Streeter Dr & Grand Ave         20143\n",
       "Lake Shore Dr & North Blvd      18248\n",
       "Clinton St & Washington Blvd    17347\n",
       "Canal St & Adams St             16149\n",
       "Clinton St & Madison St         15792\n",
       "                                ...  \n",
       "Michigan Ave & 71st St              3\n",
       "Damen Ave & 59th St                 3\n",
       "Rhodes Ave & 71st St                3\n",
       "Racine Ave & 61st St                1\n",
       "Vincennes Ave & 75th St             1\n",
       "Name: to_station_name, Length: 612, dtype: int64"
      ]
     },
     "execution_count": 13,
     "metadata": {},
     "output_type": "execute_result"
    }
   ],
   "source": [
    "# Most popular ending stations\n",
    "divvy_df['to_station_name'].value_counts()"
   ]
  },
  {
   "cell_type": "code",
   "execution_count": 14,
   "metadata": {},
   "outputs": [
    {
     "data": {
      "text/plain": [
       "<pandas.core.groupby.generic.DataFrameGroupBy object at 0x7f8a463c80d0>"
      ]
     },
     "execution_count": 14,
     "metadata": {},
     "output_type": "execute_result"
    }
   ],
   "source": [
    "# Most popular trips *still in-progress*\n",
    "popular_stations = divvy_df.groupby(['from_station_name','to_station_name'])\n",
    "popular_stations"
   ]
  },
  {
   "cell_type": "markdown",
   "metadata": {},
   "source": [
    "# Usertype Breakdown- Subscriber vs Customer"
   ]
  },
  {
   "cell_type": "code",
   "execution_count": 15,
   "metadata": {},
   "outputs": [
    {
     "data": {
      "text/html": [
       "<div>\n",
       "<style scoped>\n",
       "    .dataframe tbody tr th:only-of-type {\n",
       "        vertical-align: middle;\n",
       "    }\n",
       "\n",
       "    .dataframe tbody tr th {\n",
       "        vertical-align: top;\n",
       "    }\n",
       "\n",
       "    .dataframe thead th {\n",
       "        text-align: right;\n",
       "    }\n",
       "</style>\n",
       "<table border=\"1\" class=\"dataframe\">\n",
       "  <thead>\n",
       "    <tr style=\"text-align: right;\">\n",
       "      <th></th>\n",
       "      <th>trip_id</th>\n",
       "      <th>bikeid</th>\n",
       "      <th>start_date</th>\n",
       "      <th>start_time</th>\n",
       "      <th>end_date</th>\n",
       "      <th>end_time</th>\n",
       "      <th>tripduration</th>\n",
       "      <th>from_station_id</th>\n",
       "      <th>from_station_name</th>\n",
       "      <th>to_station_id</th>\n",
       "      <th>to_station_name</th>\n",
       "      <th>gender</th>\n",
       "      <th>birthyear</th>\n",
       "      <th>age</th>\n",
       "      <th>Age Group</th>\n",
       "    </tr>\n",
       "    <tr>\n",
       "      <th>usertype</th>\n",
       "      <th></th>\n",
       "      <th></th>\n",
       "      <th></th>\n",
       "      <th></th>\n",
       "      <th></th>\n",
       "      <th></th>\n",
       "      <th></th>\n",
       "      <th></th>\n",
       "      <th></th>\n",
       "      <th></th>\n",
       "      <th></th>\n",
       "      <th></th>\n",
       "      <th></th>\n",
       "      <th></th>\n",
       "      <th></th>\n",
       "    </tr>\n",
       "  </thead>\n",
       "  <tbody>\n",
       "    <tr>\n",
       "      <th>Customer</th>\n",
       "      <td>214116</td>\n",
       "      <td>214116</td>\n",
       "      <td>214116</td>\n",
       "      <td>214116</td>\n",
       "      <td>214116</td>\n",
       "      <td>214116</td>\n",
       "      <td>214116</td>\n",
       "      <td>214116</td>\n",
       "      <td>214116</td>\n",
       "      <td>214116</td>\n",
       "      <td>214116</td>\n",
       "      <td>214116</td>\n",
       "      <td>214116</td>\n",
       "      <td>214116</td>\n",
       "      <td>214096</td>\n",
       "    </tr>\n",
       "    <tr>\n",
       "      <th>Subscriber</th>\n",
       "      <td>1139252</td>\n",
       "      <td>1139252</td>\n",
       "      <td>1139252</td>\n",
       "      <td>1139252</td>\n",
       "      <td>1139252</td>\n",
       "      <td>1139252</td>\n",
       "      <td>1139252</td>\n",
       "      <td>1139252</td>\n",
       "      <td>1139252</td>\n",
       "      <td>1139252</td>\n",
       "      <td>1139252</td>\n",
       "      <td>1139252</td>\n",
       "      <td>1139252</td>\n",
       "      <td>1139252</td>\n",
       "      <td>1138932</td>\n",
       "    </tr>\n",
       "  </tbody>\n",
       "</table>\n",
       "</div>"
      ],
      "text/plain": [
       "            trip_id   bikeid  start_date  start_time  end_date  end_time  \\\n",
       "usertype                                                                   \n",
       "Customer     214116   214116      214116      214116    214116    214116   \n",
       "Subscriber  1139252  1139252     1139252     1139252   1139252   1139252   \n",
       "\n",
       "            tripduration  from_station_id  from_station_name  to_station_id  \\\n",
       "usertype                                                                      \n",
       "Customer          214116           214116             214116         214116   \n",
       "Subscriber       1139252          1139252            1139252        1139252   \n",
       "\n",
       "            to_station_name   gender  birthyear      age  Age Group  \n",
       "usertype                                                             \n",
       "Customer             214116   214116     214116   214116     214096  \n",
       "Subscriber          1139252  1139252    1139252  1139252    1138932  "
      ]
     },
     "execution_count": 15,
     "metadata": {},
     "output_type": "execute_result"
    }
   ],
   "source": [
    "# Groupby usertype for ridership breakdown\n",
    "usertype_df = divvy_df.groupby('usertype')\n",
    "usertype_df.count()"
   ]
  },
  {
   "cell_type": "code",
   "execution_count": 16,
   "metadata": {},
   "outputs": [
    {
     "data": {
      "text/plain": [
       "Subscriber    1139252\n",
       "Customer       214116\n",
       "Name: usertype, dtype: int64"
      ]
     },
     "execution_count": 16,
     "metadata": {},
     "output_type": "execute_result"
    }
   ],
   "source": [
    "#Find amount ot Subscribers and Customers\n",
    "divvy_df['usertype'].value_counts()"
   ]
  },
  {
   "cell_type": "code",
   "execution_count": 17,
   "metadata": {},
   "outputs": [
    {
     "data": {
      "text/html": [
       "<div>\n",
       "<style scoped>\n",
       "    .dataframe tbody tr th:only-of-type {\n",
       "        vertical-align: middle;\n",
       "    }\n",
       "\n",
       "    .dataframe tbody tr th {\n",
       "        vertical-align: top;\n",
       "    }\n",
       "\n",
       "    .dataframe thead th {\n",
       "        text-align: right;\n",
       "    }\n",
       "</style>\n",
       "<table border=\"1\" class=\"dataframe\">\n",
       "  <thead>\n",
       "    <tr style=\"text-align: right;\">\n",
       "      <th></th>\n",
       "      <th>Total Count</th>\n",
       "      <th>Percentage</th>\n",
       "    </tr>\n",
       "    <tr>\n",
       "      <th>usertype</th>\n",
       "      <th></th>\n",
       "      <th></th>\n",
       "    </tr>\n",
       "  </thead>\n",
       "  <tbody>\n",
       "    <tr>\n",
       "      <th>Subscriber</th>\n",
       "      <td>1139252</td>\n",
       "      <td>84.179026</td>\n",
       "    </tr>\n",
       "    <tr>\n",
       "      <th>Customer</th>\n",
       "      <td>214116</td>\n",
       "      <td>15.820974</td>\n",
       "    </tr>\n",
       "  </tbody>\n",
       "</table>\n",
       "</div>"
      ],
      "text/plain": [
       "            Total Count  Percentage\n",
       "usertype                           \n",
       "Subscriber      1139252   84.179026\n",
       "Customer         214116   15.820974"
      ]
     },
     "execution_count": 17,
     "metadata": {},
     "output_type": "execute_result"
    }
   ],
   "source": [
    "#Find Usertype Percentage\n",
    "\n",
    "#Count number of trips for each usertype\n",
    "count_number_usertype = divvy_df['trip_id'].nunique()\n",
    "\n",
    "#Count number of each usertype\n",
    "usertype_number = usertype_df['trip_id'].nunique()\n",
    "\n",
    "#Percentage Usertype Calculation\n",
    "percent_usertype =  usertype_number / count_number_usertype * 100\n",
    "\n",
    "#Display usertype demographics\n",
    "usertype_demographics_df = pd.DataFrame({'Total Count':usertype_number,\n",
    "                                       'Percentage':percent_usertype})\n",
    "usertype_demographics_df.sort_values('Total Count', ascending = False)"
   ]
  },
  {
   "cell_type": "markdown",
   "metadata": {},
   "source": [
    "<u> **Usertype Observations:** </u>\n",
    "\n",
    "*There are far more subscribers than customers who ride in the Chicago Divvy network, about 84% to 16%"
   ]
  },
  {
   "cell_type": "markdown",
   "metadata": {},
   "source": [
    "# Gender Breakdown"
   ]
  },
  {
   "cell_type": "code",
   "execution_count": 18,
   "metadata": {},
   "outputs": [
    {
     "data": {
      "text/plain": [
       "Male      957353\n",
       "Female    396015\n",
       "Name: gender, dtype: int64"
      ]
     },
     "execution_count": 18,
     "metadata": {},
     "output_type": "execute_result"
    }
   ],
   "source": [
    "#Find amount of Male and Female riders\n",
    "divvy_df['gender'].value_counts()"
   ]
  },
  {
   "cell_type": "code",
   "execution_count": 19,
   "metadata": {},
   "outputs": [
    {
     "data": {
      "text/html": [
       "<div>\n",
       "<style scoped>\n",
       "    .dataframe tbody tr th:only-of-type {\n",
       "        vertical-align: middle;\n",
       "    }\n",
       "\n",
       "    .dataframe tbody tr th {\n",
       "        vertical-align: top;\n",
       "    }\n",
       "\n",
       "    .dataframe thead th {\n",
       "        text-align: right;\n",
       "    }\n",
       "</style>\n",
       "<table border=\"1\" class=\"dataframe\">\n",
       "  <thead>\n",
       "    <tr style=\"text-align: right;\">\n",
       "      <th></th>\n",
       "      <th>Total Count</th>\n",
       "      <th>Percentage</th>\n",
       "    </tr>\n",
       "    <tr>\n",
       "      <th>gender</th>\n",
       "      <th></th>\n",
       "      <th></th>\n",
       "    </tr>\n",
       "  </thead>\n",
       "  <tbody>\n",
       "    <tr>\n",
       "      <th>Male</th>\n",
       "      <td>957353</td>\n",
       "      <td>70.738557</td>\n",
       "    </tr>\n",
       "    <tr>\n",
       "      <th>Female</th>\n",
       "      <td>396015</td>\n",
       "      <td>29.261443</td>\n",
       "    </tr>\n",
       "  </tbody>\n",
       "</table>\n",
       "</div>"
      ],
      "text/plain": [
       "        Total Count  Percentage\n",
       "gender                         \n",
       "Male         957353   70.738557\n",
       "Female       396015   29.261443"
      ]
     },
     "execution_count": 19,
     "metadata": {},
     "output_type": "execute_result"
    }
   ],
   "source": [
    "#Group by gender\n",
    "usertype_gender_df = divvy_df.groupby('gender')\n",
    "\n",
    "#Count number of trips for each gender\n",
    "count_number_gender = divvy_df['trip_id'].nunique()\n",
    "\n",
    "#Count number of each gender\n",
    "gender_type_number = usertype_gender_df['trip_id'].nunique()\n",
    "\n",
    "#Calculate percentage for gender\n",
    "percent_gender =  gender_type_number / count_number_gender * 100\n",
    "\n",
    "#Display gender demographics\n",
    "gender_demographics_df = pd.DataFrame({'Total Count':gender_type_number,\n",
    "                                       'Percentage':percent_gender})\n",
    "gender_demographics_df.sort_values('Total Count', ascending = False)"
   ]
  },
  {
   "cell_type": "code",
   "execution_count": 20,
   "metadata": {},
   "outputs": [
    {
     "data": {
      "text/plain": [
       "Text(0.5, 1.0, 'Total Divvy Riders based on Gender')"
      ]
     },
     "execution_count": 20,
     "metadata": {},
     "output_type": "execute_result"
    },
    {
     "data": {
      "image/png": "[encoded data removed]",
      "text/plain": [
       "<Figure size 432x288 with 1 Axes>"
      ]
     },
     "metadata": {},
     "output_type": "display_data"
    }
   ],
   "source": [
    "#Total Divvy Riders based on Gender- PIE CHART\n",
    "\n",
    "gender_data = divvy_df['gender'].value_counts()\n",
    "gender_labels = ['Male','Female']\n",
    "colours = ['skyblue', 'lightpink']\n",
    "plt.pie(gender_data, labels= gender_labels, colors=colours, autopct=\"%1.1f%%\", startangle=145)\n",
    "plt.title(\"Total Divvy Riders based on Gender\")"
   ]
  },
  {
   "cell_type": "code",
   "execution_count": 21,
   "metadata": {},
   "outputs": [
    {
     "data": {
      "text/plain": [
       "gender  usertype  \n",
       "Female  Subscriber    313303\n",
       "        Customer       82712\n",
       "Male    Subscriber    825949\n",
       "        Customer      131404\n",
       "Name: usertype, dtype: int64"
      ]
     },
     "execution_count": 21,
     "metadata": {},
     "output_type": "execute_result"
    }
   ],
   "source": [
    "# Find breakdown of each gender for each usertype\n",
    "usertype_gender_df['usertype'].value_counts()"
   ]
  },
  {
   "cell_type": "code",
   "execution_count": 22,
   "metadata": {},
   "outputs": [
    {
     "data": {
      "text/plain": [
       "Text(0.5, 1.0, 'Total Divvy Riders based on Gender and Usertype')"
      ]
     },
     "execution_count": 22,
     "metadata": {},
     "output_type": "execute_result"
    },
    {
     "data": {
      "image/png": "[encoded data removed]",
      "text/plain": [
       "<Figure size 432x288 with 1 Axes>"
      ]
     },
     "metadata": {
      "needs_background": "light"
     },
     "output_type": "display_data"
    }
   ],
   "source": [
    "#Total Divvy Riders based on Gender and Usertype- Bar Graph\n",
    "\n",
    "split_gender_data = usertype_gender_df['usertype'].value_counts()\n",
    "blue_colors = [\"deepskyblue\", \"lightskyblue\", \"steelblue\", \"lightsteelblue\"]\n",
    "gender_chart = split_gender_data.plot(kind = 'bar', color = blue_colors, rot = 20)\n",
    "gender_chart.set_ylabel(\"Amount of Riders\")\n",
    "gender_chart.set_xlabel(\"Gender, Usertype\")\n",
    "gender_chart.set_title(\"Total Divvy Riders based on Gender and Usertype\")"
   ]
  },
  {
   "cell_type": "code",
   "execution_count": 23,
   "metadata": {},
   "outputs": [
    {
     "data": {
      "text/plain": [
       "Text(0.5, 1.0, 'Total Divvy Riders based on Gender and Usertype')"
      ]
     },
     "execution_count": 23,
     "metadata": {},
     "output_type": "execute_result"
    },
    {
     "data": {
      "image/png": "[encoded data removed]",
      "text/plain": [
       "<Figure size 432x288 with 1 Axes>"
      ]
     },
     "metadata": {},
     "output_type": "display_data"
    }
   ],
   "source": [
    "#Total Divvy Riders based on Gender and Usertype- Pie Chart\n",
    "\n",
    "gender_by_usertype = usertype_gender_df['usertype'].value_counts()\n",
    "gender_usertype_labels= [\"Male, Customer\", \"Female, Customer\", \"Male, Subscriber\", \"Female, Subscriber\"]\n",
    "plt.pie(gender_by_usertype, labels = gender_usertype_labels, colors= blue_colors, autopct=\"%1.1f%%\", startangle=55)\n",
    "plt.title(\"Total Divvy Riders based on Gender and Usertype\")"
   ]
  },
  {
   "cell_type": "code",
   "execution_count": 24,
   "metadata": {},
   "outputs": [
    {
     "data": {
      "text/plain": [
       "Text(0.5, 1.0, 'Divvy Riders based on Gender- Customers Only')"
      ]
     },
     "execution_count": 24,
     "metadata": {},
     "output_type": "execute_result"
    },
    {
     "data": {
      "image/png": "[encoded data removed]",
      "text/plain": [
       "<Figure size 432x288 with 1 Axes>"
      ]
     },
     "metadata": {},
     "output_type": "display_data"
    }
   ],
   "source": [
    "#Divvy Riders based on Gender- Customers Only\n",
    "\n",
    "sizes = [825949,313303]\n",
    "skyblue_colors = [\"deepskyblue\", \"lightskyblue\"]\n",
    "plt.pie(sizes, labels= gender_labels, colors=skyblue_colors, autopct=\"%1.1f%%\", startangle=140)\n",
    "plt.title(\"Divvy Riders based on Gender- Customers Only\")"
   ]
  },
  {
   "cell_type": "code",
   "execution_count": 25,
   "metadata": {},
   "outputs": [
    {
     "data": {
      "text/plain": [
       "Text(0.5, 1.0, 'Divvy Riders based on Gender- Subscribers Only')"
      ]
     },
     "execution_count": 25,
     "metadata": {},
     "output_type": "execute_result"
    },
    {
     "data": {
      "image/png": "[encoded data removed]",
      "text/plain": [
       "<Figure size 432x288 with 1 Axes>"
      ]
     },
     "metadata": {},
     "output_type": "display_data"
    }
   ],
   "source": [
    "#Divvy Riders based on Gender- Subscribers Only\n",
    "\n",
    "sizes = [131404,82712]\n",
    "steel_colors = [\"steelblue\", \"lightsteelblue\"]\n",
    "plt.pie(sizes, labels= gender_labels, colors=steel_colors, autopct=\"%1.1f%%\", startangle=160)\n",
    "plt.title(\"Divvy Riders based on Gender- Subscribers Only\")"
   ]
  },
  {
   "cell_type": "markdown",
   "metadata": {},
   "source": [
    "<u> **Gender Observations:** </u>\n",
    "\n",
    "*There are far more male Divvy riders than female - about 70% to 30%.\n",
    "\n",
    "*It is fairly the same gender breakdown when it comes to customer (about 70/30) and subscriber ( about 60/40)."
   ]
  },
  {
   "cell_type": "markdown",
   "metadata": {},
   "source": [
    "# Age Breakdown"
   ]
  },
  {
   "cell_type": "code",
   "execution_count": 26,
   "metadata": {},
   "outputs": [
    {
     "data": {
      "text/html": [
       "<div>\n",
       "<style scoped>\n",
       "    .dataframe tbody tr th:only-of-type {\n",
       "        vertical-align: middle;\n",
       "    }\n",
       "\n",
       "    .dataframe tbody tr th {\n",
       "        vertical-align: top;\n",
       "    }\n",
       "\n",
       "    .dataframe thead th {\n",
       "        text-align: right;\n",
       "    }\n",
       "</style>\n",
       "<table border=\"1\" class=\"dataframe\">\n",
       "  <thead>\n",
       "    <tr style=\"text-align: right;\">\n",
       "      <th></th>\n",
       "      <th>trip_id</th>\n",
       "      <th>bikeid</th>\n",
       "      <th>start_date</th>\n",
       "      <th>start_time</th>\n",
       "      <th>end_date</th>\n",
       "      <th>end_time</th>\n",
       "      <th>tripduration</th>\n",
       "      <th>from_station_id</th>\n",
       "      <th>from_station_name</th>\n",
       "      <th>to_station_id</th>\n",
       "      <th>to_station_name</th>\n",
       "      <th>usertype</th>\n",
       "      <th>gender</th>\n",
       "      <th>birthyear</th>\n",
       "      <th>age</th>\n",
       "    </tr>\n",
       "    <tr>\n",
       "      <th>Age Group</th>\n",
       "      <th></th>\n",
       "      <th></th>\n",
       "      <th></th>\n",
       "      <th></th>\n",
       "      <th></th>\n",
       "      <th></th>\n",
       "      <th></th>\n",
       "      <th></th>\n",
       "      <th></th>\n",
       "      <th></th>\n",
       "      <th></th>\n",
       "      <th></th>\n",
       "      <th></th>\n",
       "      <th></th>\n",
       "      <th></th>\n",
       "    </tr>\n",
       "  </thead>\n",
       "  <tbody>\n",
       "    <tr>\n",
       "      <th>11-19</th>\n",
       "      <td>24148</td>\n",
       "      <td>24148</td>\n",
       "      <td>24148</td>\n",
       "      <td>24148</td>\n",
       "      <td>24148</td>\n",
       "      <td>24148</td>\n",
       "      <td>24148</td>\n",
       "      <td>24148</td>\n",
       "      <td>24148</td>\n",
       "      <td>24148</td>\n",
       "      <td>24148</td>\n",
       "      <td>24148</td>\n",
       "      <td>24148</td>\n",
       "      <td>24148</td>\n",
       "      <td>24148</td>\n",
       "    </tr>\n",
       "    <tr>\n",
       "      <th>20-29</th>\n",
       "      <td>633811</td>\n",
       "      <td>633811</td>\n",
       "      <td>633811</td>\n",
       "      <td>633811</td>\n",
       "      <td>633811</td>\n",
       "      <td>633811</td>\n",
       "      <td>633811</td>\n",
       "      <td>633811</td>\n",
       "      <td>633811</td>\n",
       "      <td>633811</td>\n",
       "      <td>633811</td>\n",
       "      <td>633811</td>\n",
       "      <td>633811</td>\n",
       "      <td>633811</td>\n",
       "      <td>633811</td>\n",
       "    </tr>\n",
       "    <tr>\n",
       "      <th>30-39</th>\n",
       "      <td>402889</td>\n",
       "      <td>402889</td>\n",
       "      <td>402889</td>\n",
       "      <td>402889</td>\n",
       "      <td>402889</td>\n",
       "      <td>402889</td>\n",
       "      <td>402889</td>\n",
       "      <td>402889</td>\n",
       "      <td>402889</td>\n",
       "      <td>402889</td>\n",
       "      <td>402889</td>\n",
       "      <td>402889</td>\n",
       "      <td>402889</td>\n",
       "      <td>402889</td>\n",
       "      <td>402889</td>\n",
       "    </tr>\n",
       "    <tr>\n",
       "      <th>40-49</th>\n",
       "      <td>151754</td>\n",
       "      <td>151754</td>\n",
       "      <td>151754</td>\n",
       "      <td>151754</td>\n",
       "      <td>151754</td>\n",
       "      <td>151754</td>\n",
       "      <td>151754</td>\n",
       "      <td>151754</td>\n",
       "      <td>151754</td>\n",
       "      <td>151754</td>\n",
       "      <td>151754</td>\n",
       "      <td>151754</td>\n",
       "      <td>151754</td>\n",
       "      <td>151754</td>\n",
       "      <td>151754</td>\n",
       "    </tr>\n",
       "    <tr>\n",
       "      <th>50-59</th>\n",
       "      <td>106465</td>\n",
       "      <td>106465</td>\n",
       "      <td>106465</td>\n",
       "      <td>106465</td>\n",
       "      <td>106465</td>\n",
       "      <td>106465</td>\n",
       "      <td>106465</td>\n",
       "      <td>106465</td>\n",
       "      <td>106465</td>\n",
       "      <td>106465</td>\n",
       "      <td>106465</td>\n",
       "      <td>106465</td>\n",
       "      <td>106465</td>\n",
       "      <td>106465</td>\n",
       "      <td>106465</td>\n",
       "    </tr>\n",
       "    <tr>\n",
       "      <th>60-69</th>\n",
       "      <td>31272</td>\n",
       "      <td>31272</td>\n",
       "      <td>31272</td>\n",
       "      <td>31272</td>\n",
       "      <td>31272</td>\n",
       "      <td>31272</td>\n",
       "      <td>31272</td>\n",
       "      <td>31272</td>\n",
       "      <td>31272</td>\n",
       "      <td>31272</td>\n",
       "      <td>31272</td>\n",
       "      <td>31272</td>\n",
       "      <td>31272</td>\n",
       "      <td>31272</td>\n",
       "      <td>31272</td>\n",
       "    </tr>\n",
       "    <tr>\n",
       "      <th>70-79</th>\n",
       "      <td>2656</td>\n",
       "      <td>2656</td>\n",
       "      <td>2656</td>\n",
       "      <td>2656</td>\n",
       "      <td>2656</td>\n",
       "      <td>2656</td>\n",
       "      <td>2656</td>\n",
       "      <td>2656</td>\n",
       "      <td>2656</td>\n",
       "      <td>2656</td>\n",
       "      <td>2656</td>\n",
       "      <td>2656</td>\n",
       "      <td>2656</td>\n",
       "      <td>2656</td>\n",
       "      <td>2656</td>\n",
       "    </tr>\n",
       "    <tr>\n",
       "      <th>80-89</th>\n",
       "      <td>33</td>\n",
       "      <td>33</td>\n",
       "      <td>33</td>\n",
       "      <td>33</td>\n",
       "      <td>33</td>\n",
       "      <td>33</td>\n",
       "      <td>33</td>\n",
       "      <td>33</td>\n",
       "      <td>33</td>\n",
       "      <td>33</td>\n",
       "      <td>33</td>\n",
       "      <td>33</td>\n",
       "      <td>33</td>\n",
       "      <td>33</td>\n",
       "      <td>33</td>\n",
       "    </tr>\n",
       "  </tbody>\n",
       "</table>\n",
       "</div>"
      ],
      "text/plain": [
       "           trip_id  bikeid  start_date  start_time  end_date  end_time  \\\n",
       "Age Group                                                                \n",
       "11-19        24148   24148       24148       24148     24148     24148   \n",
       "20-29       633811  633811      633811      633811    633811    633811   \n",
       "30-39       402889  402889      402889      402889    402889    402889   \n",
       "40-49       151754  151754      151754      151754    151754    151754   \n",
       "50-59       106465  106465      106465      106465    106465    106465   \n",
       "60-69        31272   31272       31272       31272     31272     31272   \n",
       "70-79         2656    2656        2656        2656      2656      2656   \n",
       "80-89           33      33          33          33        33        33   \n",
       "\n",
       "           tripduration  from_station_id  from_station_name  to_station_id  \\\n",
       "Age Group                                                                    \n",
       "11-19             24148            24148              24148          24148   \n",
       "20-29            633811           633811             633811         633811   \n",
       "30-39            402889           402889             402889         402889   \n",
       "40-49            151754           151754             151754         151754   \n",
       "50-59            106465           106465             106465         106465   \n",
       "60-69             31272            31272              31272          31272   \n",
       "70-79              2656             2656               2656           2656   \n",
       "80-89                33               33                 33             33   \n",
       "\n",
       "           to_station_name  usertype  gender  birthyear     age  \n",
       "Age Group                                                        \n",
       "11-19                24148     24148   24148      24148   24148  \n",
       "20-29               633811    633811  633811     633811  633811  \n",
       "30-39               402889    402889  402889     402889  402889  \n",
       "40-49               151754    151754  151754     151754  151754  \n",
       "50-59               106465    106465  106465     106465  106465  \n",
       "60-69                31272     31272   31272      31272   31272  \n",
       "70-79                 2656      2656    2656       2656    2656  \n",
       "80-89                   33        33      33         33      33  "
      ]
     },
     "execution_count": 26,
     "metadata": {},
     "output_type": "execute_result"
    }
   ],
   "source": [
    "#Count number of trips for each age group\n",
    "count_number_age = divvy_df['trip_id'].nunique()\n",
    "\n",
    "#Count number in each age group and display\n",
    "usertype_age_df = divvy_df.groupby('Age Group')\n",
    "age_type_number = usertype_age_df['trip_id'].nunique()\n",
    "usertype_age_df.count()"
   ]
  },
  {
   "cell_type": "code",
   "execution_count": 27,
   "metadata": {},
   "outputs": [
    {
     "data": {
      "text/html": [
       "<div>\n",
       "<style scoped>\n",
       "    .dataframe tbody tr th:only-of-type {\n",
       "        vertical-align: middle;\n",
       "    }\n",
       "\n",
       "    .dataframe tbody tr th {\n",
       "        vertical-align: top;\n",
       "    }\n",
       "\n",
       "    .dataframe thead th {\n",
       "        text-align: right;\n",
       "    }\n",
       "</style>\n",
       "<table border=\"1\" class=\"dataframe\">\n",
       "  <thead>\n",
       "    <tr style=\"text-align: right;\">\n",
       "      <th></th>\n",
       "      <th>Total Count</th>\n",
       "      <th>Percentage of Age</th>\n",
       "    </tr>\n",
       "    <tr>\n",
       "      <th>Age Group</th>\n",
       "      <th></th>\n",
       "      <th></th>\n",
       "    </tr>\n",
       "  </thead>\n",
       "  <tbody>\n",
       "    <tr>\n",
       "      <th>11-19</th>\n",
       "      <td>24148</td>\n",
       "      <td>1.784289</td>\n",
       "    </tr>\n",
       "    <tr>\n",
       "      <th>20-29</th>\n",
       "      <td>633811</td>\n",
       "      <td>46.832125</td>\n",
       "    </tr>\n",
       "    <tr>\n",
       "      <th>30-39</th>\n",
       "      <td>402889</td>\n",
       "      <td>29.769361</td>\n",
       "    </tr>\n",
       "    <tr>\n",
       "      <th>40-49</th>\n",
       "      <td>151754</td>\n",
       "      <td>11.213063</td>\n",
       "    </tr>\n",
       "    <tr>\n",
       "      <th>50-59</th>\n",
       "      <td>106465</td>\n",
       "      <td>7.866670</td>\n",
       "    </tr>\n",
       "    <tr>\n",
       "      <th>60-69</th>\n",
       "      <td>31272</td>\n",
       "      <td>2.310680</td>\n",
       "    </tr>\n",
       "    <tr>\n",
       "      <th>70-79</th>\n",
       "      <td>2656</td>\n",
       "      <td>0.196251</td>\n",
       "    </tr>\n",
       "    <tr>\n",
       "      <th>80-89</th>\n",
       "      <td>33</td>\n",
       "      <td>0.002438</td>\n",
       "    </tr>\n",
       "  </tbody>\n",
       "</table>\n",
       "</div>"
      ],
      "text/plain": [
       "           Total Count  Percentage of Age\n",
       "Age Group                                \n",
       "11-19            24148           1.784289\n",
       "20-29           633811          46.832125\n",
       "30-39           402889          29.769361\n",
       "40-49           151754          11.213063\n",
       "50-59           106465           7.866670\n",
       "60-69            31272           2.310680\n",
       "70-79             2656           0.196251\n",
       "80-89               33           0.002438"
      ]
     },
     "execution_count": 27,
     "metadata": {},
     "output_type": "execute_result"
    }
   ],
   "source": [
    "#Calculate percentage for age\n",
    "percent_age =  age_type_number / count_number_age * 100\n",
    "\n",
    "#Make df of age demographics\n",
    "age_demographics_df = pd.DataFrame({'Total Count':age_type_number,\n",
    "                                       'Percentage of Age':percent_age})\n",
    "age_demographics_df.sort_values('Age Group', ascending = True)"
   ]
  },
  {
   "cell_type": "code",
   "execution_count": 28,
   "metadata": {},
   "outputs": [
    {
     "data": {
      "text/plain": [
       "Text(0.5, 1.0, 'Total Divvy Riders based on Age')"
      ]
     },
     "execution_count": 28,
     "metadata": {},
     "output_type": "execute_result"
    },
    {
     "data": {
      "image/png": "[encoded data removed]",
      "text/plain": [
       "<Figure size 432x288 with 1 Axes>"
      ]
     },
     "metadata": {},
     "output_type": "display_data"
    }
   ],
   "source": [
    "#Total Divvy Riders based on Age- Pie Chart\n",
    "\n",
    "rainbow_colors = [\"darkred\", \"darkorange\", \"gold\", \"forestgreen\", \"royalblue\", \"navy\", \"darkmagenta\", \"hotpink\"]\n",
    "plt.pie(percent_age, labels= group_names, colors=rainbow_colors, startangle=90)\n",
    "#autopct=\"%1.1f%%\"\n",
    "plt.title(\"Total Divvy Riders based on Age\")"
   ]
  },
  {
   "cell_type": "code",
   "execution_count": 29,
   "metadata": {
    "scrolled": true
   },
   "outputs": [
    {
     "data": {
      "text/plain": [
       "Text(0.5, 1.0, 'Total Divvy Riders Based on Age')"
      ]
     },
     "execution_count": 29,
     "metadata": {},
     "output_type": "execute_result"
    },
    {
     "data": {
      "image/png": "[encoded data removed]",
      "text/plain": [
       "<Figure size 432x288 with 1 Axes>"
      ]
     },
     "metadata": {
      "needs_background": "light"
     },
     "output_type": "display_data"
    }
   ],
   "source": [
    "#Total Divvy Riders based on Age- Bar Chart\n",
    "\n",
    "age_chart = age_type_number.plot(kind = 'bar', color = rainbow_colors, rot = 20)\n",
    "age_chart.set_ylabel(\"Amount of Riders\")\n",
    "age_chart.set_xlabel(\"Age Group\")\n",
    "age_chart.set_title(\"Total Divvy Riders Based on Age\")"
   ]
  },
  {
   "cell_type": "code",
   "execution_count": 30,
   "metadata": {},
   "outputs": [
    {
     "data": {
      "text/plain": [
       "Text(0.5, 1.0, 'Percentage Divvy Riders Based on Age')"
      ]
     },
     "execution_count": 30,
     "metadata": {},
     "output_type": "execute_result"
    },
    {
     "data": {
      "image/png": "[encoded data removed]",
      "text/plain": [
       "<Figure size 432x288 with 1 Axes>"
      ]
     },
     "metadata": {
      "needs_background": "light"
     },
     "output_type": "display_data"
    }
   ],
   "source": [
    "#Percentage Divvy Riders based on Age- Bar Chart\n",
    "\n",
    "percent_chart = percent_age.plot(kind = 'bar', color = rainbow_colors, rot = 20)\n",
    "percent_chart.set_ylabel(\"Percent\")\n",
    "percent_chart.set_xlabel(\"Age Group\")\n",
    "percent_chart.set_title(\"Percentage Divvy Riders Based on Age\")"
   ]
  },
  {
   "cell_type": "code",
   "execution_count": 31,
   "metadata": {},
   "outputs": [
    {
     "data": {
      "text/plain": [
       "Age Group  usertype  \n",
       "11-19      Subscriber     12093\n",
       "           Customer       12055\n",
       "20-29      Subscriber    512720\n",
       "           Customer      121091\n",
       "30-39      Subscriber    355281\n",
       "           Customer       47608\n",
       "40-49      Subscriber    132359\n",
       "           Customer       19395\n",
       "50-59      Subscriber     94713\n",
       "           Customer       11752\n",
       "60-69      Subscriber     29201\n",
       "           Customer        2071\n",
       "70-79      Subscriber      2535\n",
       "           Customer         121\n",
       "80-89      Subscriber        30\n",
       "           Customer           3\n",
       "Name: usertype, dtype: int64"
      ]
     },
     "execution_count": 31,
     "metadata": {},
     "output_type": "execute_result"
    }
   ],
   "source": [
    "#Age seperated by usertype\n",
    "usertype_age_df['usertype'].value_counts()"
   ]
  },
  {
   "cell_type": "code",
   "execution_count": 32,
   "metadata": {},
   "outputs": [
    {
     "data": {
      "text/plain": [
       "Text(0.5, 1.0, 'Divvy Riders based on Age, Customers Only')"
      ]
     },
     "execution_count": 32,
     "metadata": {},
     "output_type": "execute_result"
    },
    {
     "data": {
      "image/png": "[encoded data removed]",
      "text/plain": [
       "<Figure size 432x288 with 1 Axes>"
      ]
     },
     "metadata": {},
     "output_type": "display_data"
    }
   ],
   "source": [
    "#Divvy Riders based on Age, Customers Only- PIE CHART\n",
    "\n",
    "customer_age_totals = [12055,121091,47608,19395,11752,2071,121,3]\n",
    "plt.pie(customer_age_totals, labels= group_names, colors=rainbow_colors)\n",
    "#autopct=\"%1.1f%%\"\n",
    "#startangle=90\n",
    "plt.title(\"Divvy Riders based on Age, Customers Only\")"
   ]
  },
  {
   "cell_type": "code",
   "execution_count": 33,
   "metadata": {},
   "outputs": [
    {
     "data": {
      "text/plain": [
       "Text(0.5, 1.0, 'Divvy Riders based on Age, Subscribers Only')"
      ]
     },
     "execution_count": 33,
     "metadata": {},
     "output_type": "execute_result"
    },
    {
     "data": {
      "image/png": "[encoded data removed]",
      "text/plain": [
       "<Figure size 432x288 with 1 Axes>"
      ]
     },
     "metadata": {},
     "output_type": "display_data"
    }
   ],
   "source": [
    "# Divvy Riders based on Age, Subscribers Only- PIE CHART\n",
    "\n",
    "subscriber_age_totals = [12093,512720,355281,132359,94713,29201,2535,30]\n",
    "plt.pie(subscriber_age_totals, labels= group_names, colors = rainbow_colors)\n",
    "#startangle=90\n",
    "#autopct=\"%1.1f%%\",\n",
    "plt.title(\"Divvy Riders based on Age, Subscribers Only\")"
   ]
  },
  {
   "cell_type": "code",
   "execution_count": 34,
   "metadata": {},
   "outputs": [
    {
     "data": {
      "text/plain": [
       "Text(0, 0.5, 'Amount of Riders')"
      ]
     },
     "execution_count": 34,
     "metadata": {},
     "output_type": "execute_result"
    },
    {
     "data": {
      "image/png": "[encoded data removed]",
      "text/plain": [
       "<Figure size 432x288 with 1 Axes>"
      ]
     },
     "metadata": {
      "needs_background": "light"
     },
     "output_type": "display_data"
    }
   ],
   "source": [
    "#Total Divvy Riders based on Age, Separated by Usertype- Histogram\n",
    "\n",
    "plotdata = pd.DataFrame({\n",
    "    \"Subscriber\":subscriber_age_totals,\n",
    "    \"Customer\":customer_age_totals\n",
    "    }, \n",
    "    index= group_names\n",
    "    )\n",
    "plotdata.plot(kind=\"bar\", color = ['dodgerblue','powderblue'])\n",
    "plt.title(\"Total Divvy Riders based on Age, Separated by Usertype\")\n",
    "plt.xlabel(\"Age Groups\")\n",
    "plt.ylabel(\"Amount of Riders\")"
   ]
  },
  {
   "cell_type": "code",
   "execution_count": 35,
   "metadata": {},
   "outputs": [
    {
     "data": {
      "text/plain": [
       "Text(0, 0.5, 'Amount of Riders')"
      ]
     },
     "execution_count": 35,
     "metadata": {},
     "output_type": "execute_result"
    },
    {
     "data": {
      "image/png": "[encoded data removed]",
      "text/plain": [
       "<Figure size 432x288 with 1 Axes>"
      ]
     },
     "metadata": {
      "needs_background": "light"
     },
     "output_type": "display_data"
    }
   ],
   "source": [
    "#Total Divvy Riders based on Age, Separated by Usertype- Stacked Histogram\n",
    "\n",
    "plotdata[[\"Subscriber\", \"Customer\"]].plot(kind=\"bar\", color=['dodgerblue','powderblue'], stacked=True)\n",
    "plt.title(\"Total Divvy Riders based on Age, Separated by Usertype\")\n",
    "plt.xlabel(\"Age Groups\")\n",
    "plt.ylabel(\"Amount of Riders\")"
   ]
  },
  {
   "cell_type": "code",
   "execution_count": 36,
   "metadata": {},
   "outputs": [
    {
     "data": {
      "text/plain": [
       "Text(0, 0.5, 'Amount of Riders')"
      ]
     },
     "execution_count": 36,
     "metadata": {},
     "output_type": "execute_result"
    },
    {
     "data": {
      "image/png": "[encoded data removed]",
      "text/plain": [
       "<Figure size 432x288 with 1 Axes>"
      ]
     },
     "metadata": {
      "needs_background": "light"
     },
     "output_type": "display_data"
    }
   ],
   "source": [
    "#Divvy Riders based on Age, Customers Only- BAR CHART\n",
    "\n",
    "plotdata['Customer'].plot(kind=\"bar\", color=rainbow_colors, title=\"test\")\n",
    "plt.title(\"Divvy Riders based on Age, Customers Only\")\n",
    "plt.xlabel(\"Age Groups\")\n",
    "plt.ylabel(\"Amount of Riders\")"
   ]
  },
  {
   "cell_type": "code",
   "execution_count": 37,
   "metadata": {},
   "outputs": [
    {
     "data": {
      "text/plain": [
       "Text(0, 0.5, 'Amount of Riders')"
      ]
     },
     "execution_count": 37,
     "metadata": {},
     "output_type": "execute_result"
    },
    {
     "data": {
      "image/png": "[encoded data removed]",
      "text/plain": [
       "<Figure size 432x288 with 1 Axes>"
      ]
     },
     "metadata": {
      "needs_background": "light"
     },
     "output_type": "display_data"
    }
   ],
   "source": [
    "#Divvy Riders based on Age, Subscribers Only- BAR CHART\n",
    "\n",
    "plotdata['Subscriber'].plot(kind=\"bar\", color=rainbow_colors, title=\"test\")\n",
    "plt.title(\"Divvy Riders based on Age, Subscribers Only\")\n",
    "plt.xlabel(\"Age Groups\")\n",
    "plt.ylabel(\"Amount of Riders\")"
   ]
  },
  {
   "cell_type": "markdown",
   "metadata": {},
   "source": [
    "<u> **Age Observations:** </u>\n",
    "\n",
    "*Age Group 20-29 has the highest amount of riders, with about 47% of all riders. Age Group 30-39 comes in second with almost 30%.\n",
    "\n",
    "*It is a pretty standard breakdown of ages, as we expected. The distribution is fairly the same with customers only and subscribers only. "
   ]
  },
  {
   "cell_type": "code",
   "execution_count": null,
   "metadata": {},
   "outputs": [],
   "source": []
  }
 ],
 "metadata": {
  "kernelspec": {
   "display_name": "Python 3",
   "language": "python",
   "name": "python3"
  },
  "language_info": {
   "codemirror_mode": {
    "name": "ipython",
    "version": 3
   },
   "file_extension": ".py",
   "mimetype": "text/x-python",
   "name": "python",
   "nbconvert_exporter": "python",
   "pygments_lexer": "ipython3",
   "version": "3.8.5"
  }
 },
 "nbformat": 4,
 "nbformat_minor": 4
}
