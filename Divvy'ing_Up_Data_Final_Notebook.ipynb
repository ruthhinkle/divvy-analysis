{
 "cells": [
  {
   "cell_type": "markdown",
   "metadata": {},
   "source": [
    "# DIVVY'IN UP DATA"
   ]
  },
  {
   "cell_type": "markdown",
   "metadata": {},
   "source": [
    "## Overview"
   ]
  },
  {
   "cell_type": "markdown",
   "metadata": {},
   "source": [
    "This project analyzes anonymized data from Divvy, a rideshare biking service in Chicago, IL. We chose to examine data in the third quarter of 2019 which includes the summer months and high volume of riders compared to other quarters. \n",
    "\n",
    "We wanted to uncover interesting patterns in the data. **We asked ourselves:**\n",
    "* Are there routes and stations that are more popular than others?\n",
    "* Are there any specific bikes that were rented a surprising amount?\n",
    "* Are there any relationships between the age and/or gender when comparing one-time customers or yearly subscribers?\n",
    "* How long, on average, are trips made by Divvy bike?"
   ]
  },
  {
   "cell_type": "markdown",
   "metadata": {},
   "source": [
    "## Observations"
   ]
  },
  {
   "cell_type": "markdown",
   "metadata": {},
   "source": [
    "## Importing & Cleaning Data"
   ]
  },
  {
   "cell_type": "markdown",
   "metadata": {},
   "source": [
    "**EDIT LATER** Text here about how we decided to clean up the data. \n"
   ]
  },
  {
   "cell_type": "code",
   "execution_count": null,
   "metadata": {},
   "outputs": [],
   "source": [
    "# Import Dependencies\n",
    "from matplotlib import pyplot as plt\n",
    "from scipy.stats import linregress\n",
    "import numpy as np\n",
    "from sklearn import datasets\n",
    "import pandas as pd\n",
    "import requests\n",
    "import gmaps\n",
    "import os\n",
    "\n",
    "# Import API key\n",
    "# from api_keys import g_key"
   ]
  },
  {
   "cell_type": "code",
   "execution_count": null,
   "metadata": {},
   "outputs": [],
   "source": [
    "# Import data file\n",
    "divvy_df = pd.read_csv('resources/Divvy_Trips_2019_Q3.csv')"
   ]
  },
  {
   "cell_type": "code",
   "execution_count": null,
   "metadata": {},
   "outputs": [],
   "source": [
    "# Remove null rows (if needed)\n",
    "divvy_df.dropna()\n",
    "divvy_df.shape"
   ]
  },
  {
   "cell_type": "code",
   "execution_count": null,
   "metadata": {},
   "outputs": [],
   "source": [
    "# Display sample of dataframe\n",
    "divvy_df.head()"
   ]
  },
  {
   "cell_type": "code",
   "execution_count": null,
   "metadata": {},
   "outputs": [],
   "source": [
    "# Find column names\n",
    "divvy_df.columns"
   ]
  },
  {
   "cell_type": "code",
   "execution_count": null,
   "metadata": {},
   "outputs": [],
   "source": []
  },
  {
   "cell_type": "markdown",
   "metadata": {},
   "source": [
    "## Analysis"
   ]
  },
  {
   "cell_type": "markdown",
   "metadata": {},
   "source": [
    "### Bike Usage"
   ]
  },
  {
   "cell_type": "markdown",
   "metadata": {},
   "source": [
    "### Popular Stations: Top 25"
   ]
  },
  {
   "cell_type": "code",
   "execution_count": null,
   "metadata": {},
   "outputs": [],
   "source": [
    "# Identify the most popular starting stations\n",
    "top_routes = divvy_df['from_station_name'].value_counts()\n",
    "total_trips_df = pd.DataFrame({\n",
    "    'total trips': top_routes\n",
    "})\n",
    "\n",
    "# Reduce the results to any stations with trip greater than or equal to 10,000\n",
    "total_trips_reduced = total_trips_df.loc[total_trips_df['total trips'] >= 10000]\n",
    "total_trips_reduced"
   ]
  },
  {
   "cell_type": "code",
   "execution_count": 1,
   "metadata": {},
   "outputs": [],
   "source": [
    "# Display a bar chart of the 25 most popular stations\n",
    "total_trips_reduced.plot(kind='bar', figsize=(20,3))\n",
    "plt.title('Most Popular Stations')\n",
    "plt.xlabel('Stations')\n",
    "plt.ylabel('Trips')\n",
    "plt.show()\n",
    "plt.tight_layout()"
   ]
  },
  {
   "cell_type": "markdown",
   "metadata": {},
   "source": [
    "### Popular Routes: Top 25"
   ]
  },
  {
   "cell_type": "code",
   "execution_count": null,
   "metadata": {},
   "outputs": [],
   "source": [
    "# Create a dataframe shows the most popular ending station for popular starting stations\n",
    "divvy_rides = {'from_station': divvy_df['from_station_name'],\n",
    "               'to_station': divvy_df['to_station_name']\n",
    "              }\n",
    "\n",
    "divvy_rides_df = pd.DataFrame(divvy_rides, columns=['from_station', 'to_station'])\n",
    "dup_to_from = divvy_rides_df.pivot_table(index=['from_station', 'to_station'], aggfunc='size')"
   ]
  },
  {
   "cell_type": "code",
   "execution_count": 2,
   "metadata": {},
   "outputs": [],
   "source": [
    "# Reconfigure dataframe to display data side by side\n",
    "dup_to_from.columns = dup_to_from.droplevel(0)\n",
    "dup_to_from.columns.name = None\n",
    "dup_to_from_II = dup_to_from.reset_index()"
   ]
  },
  {
   "cell_type": "code",
   "execution_count": null,
   "metadata": {},
   "outputs": [],
   "source": [
    "# Rename dataframe columns\n",
    "to_from_III = dup_to_from_II.rename(columns={'from_station': 'from_station', 'to_station':'to_station', 0:'rides_taken'})\n",
    "to_from_III"
   ]
  },
  {
   "cell_type": "code",
   "execution_count": null,
   "metadata": {},
   "outputs": [],
   "source": [
    "to_from_removed_dups = to_from_III[to_from_III['from_station'] != to_from_III['to_station']]\n"
   ]
  },
  {
   "cell_type": "code",
   "execution_count": null,
   "metadata": {},
   "outputs": [],
   "source": [
    "# Sort dataframe of start/end stations, sort, and identify 25 most popular routes\n",
    "most_pop_rides = to_from_removed_dups.loc[to_from_removed_dups.groupby('from_station')['rides_taken'].idxmax()]\n",
    "most_popular_routes = most_pop_rides.sort_values(ascending=False, by='rides_taken').reset_index(drop=True)\n",
    "most_popular_reduced = most_popular_routes[0:25]\n",
    "most_popular_reduced"
   ]
  },
  {
   "cell_type": "code",
   "execution_count": null,
   "metadata": {},
   "outputs": [],
   "source": [
    "# Create a bar chart of the 25 most popular routes\n",
    "plt.bar(most_popular_reduced['from_station'], most_popular_reduced['rides_taken'], color='darkblue', alpha=.5, align='center')\n",
    "plt.xticks(most_popular_reduced['from_station'], rotation='vertical')\n",
    "plt.title('25 Most Popular Divvy Routes (origin)')\n",
    "plt.xlabel('Divvy Locations')\n",
    "plt.ylabel('Number of Rides')\n",
    "plt.show()\n",
    "plt.tight_layout()"
   ]
  },
  {
   "cell_type": "markdown",
   "metadata": {},
   "source": [
    "### Comparing Subscribers & Customers"
   ]
  },
  {
   "cell_type": "markdown",
   "metadata": {},
   "source": [
    "### Use by Gender"
   ]
  },
  {
   "cell_type": "markdown",
   "metadata": {},
   "source": [
    "### Use by Age Group"
   ]
  },
  {
   "cell_type": "code",
   "execution_count": null,
   "metadata": {},
   "outputs": [],
   "source": []
  }
 ],
 "metadata": {
  "kernelspec": {
   "display_name": "Python 3",
   "language": "python",
   "name": "python3"
  },
  "language_info": {
   "codemirror_mode": {
    "name": "ipython",
    "version": 3
   },
   "file_extension": ".py",
   "mimetype": "text/x-python",
   "name": "python",
   "nbconvert_exporter": "python",
   "pygments_lexer": "ipython3",
   "version": "3.8.5"
  }
 },
 "nbformat": 4,
 "nbformat_minor": 4
}
